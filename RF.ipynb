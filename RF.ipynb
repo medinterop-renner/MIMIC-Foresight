{
 "cells": [
  {
   "cell_type": "code",
   "execution_count": null,
   "id": "initial_id",
   "metadata": {
    "ExecuteTime": {
     "end_time": "2025-01-06T16:53:31.898512Z",
     "start_time": "2025-01-06T16:53:31.162105Z"
    },
    "collapsed": true
   },
   "outputs": [],
   "source": [
    "import pandas as pd\n",
    "from sklearn.model_selection import train_test_split\n",
    "from sklearn.preprocessing import StandardScaler\n",
    "from sklearn.ensemble import RandomForestClassifier\n",
    "from sklearn.metrics import classification_report, confusion_matrix, roc_auc_score\n",
    "import matplotlib.pyplot as plt"
   ]
  },
  {
   "cell_type": "code",
   "execution_count": null,
   "id": "bf66fb1a872b5246",
   "metadata": {
    "ExecuteTime": {
     "end_time": "2025-01-06T16:53:33.151339Z",
     "start_time": "2025-01-06T16:53:31.901939Z"
    }
   },
   "outputs": [],
   "source": [
    "# Load dataset\n",
    "path = \"/Users/cc/Desktop/Work/Uni/Berner FH/DataSets/mimicCSV/mimic-iv-3.1/hosp/shortform/Look Up Tables/scaled_allpatients.csv\"\n",
    "dataset = pd.read_csv(path)"
   ]
  },
  {
   "cell_type": "code",
   "execution_count": null,
   "id": "1a62241e0b259e6a",
   "metadata": {
    "ExecuteTime": {
     "end_time": "2025-01-06T16:53:33.210241Z",
     "start_time": "2025-01-06T16:53:33.208230Z"
    }
   },
   "outputs": [],
   "source": [
    "print(dataset.shape)"
   ]
  },
  {
   "cell_type": "code",
   "execution_count": null,
   "id": "8b11bee771398a1c",
   "metadata": {
    "ExecuteTime": {
     "end_time": "2025-01-06T16:53:33.298669Z",
     "start_time": "2025-01-06T16:53:33.215865Z"
    }
   },
   "outputs": [],
   "source": [
    "# features (X) and target (y)\n",
    "X = dataset.drop(columns=[\"subject_id\", \"mortality\"])  # Drop irrelevant columns\n",
    "y = dataset[\"mortality\"]"
   ]
  },
  {
   "cell_type": "code",
   "execution_count": null,
   "id": "837b0942a093d04a",
   "metadata": {
    "ExecuteTime": {
     "end_time": "2025-01-06T16:53:33.450905Z",
     "start_time": "2025-01-06T16:53:33.306369Z"
    }
   },
   "outputs": [],
   "source": [
    "# Split into train, test sets\n",
    "X_train, X_test, y_train, y_test = train_test_split(X, y, test_size=0.3, random_state=42, stratify=y)\n",
    "\n"
   ]
  },
  {
   "cell_type": "code",
   "execution_count": null,
   "id": "f42b2f48c3576d65",
   "metadata": {
    "ExecuteTime": {
     "end_time": "2025-01-06T16:53:33.470277Z",
     "start_time": "2025-01-06T16:53:33.462233Z"
    }
   },
   "outputs": [],
   "source": [
    "X_train.head()"
   ]
  },
  {
   "cell_type": "code",
   "execution_count": null,
   "id": "f50972c2e16219ea",
   "metadata": {
    "ExecuteTime": {
     "end_time": "2025-01-06T16:53:33.488667Z",
     "start_time": "2025-01-06T16:53:33.481300Z"
    }
   },
   "outputs": [],
   "source": [
    "# Define columns that have been scaled\n",
    "columns_to_scale = [\n",
    "    \"mean_los\", \"total_los\", \"max_los\",\n",
    "    \"num_admissions\",\n",
    "    \"mean_drg_severity\", \"max_drg_severity\", \"mode_drg_severity\",\n",
    "    \"mean_drg_mortality\", \"max_drg_mortality\", \"mode_drg_mortality\",\n",
    "    \"totalDiagnosesIcdCodes\"\n",
    "]\n",
    "\n",
    "# Check mean and standard deviat. columns\n",
    "scaled_means = dataset[columns_to_scale].mean()\n",
    "scaled_stds = dataset[columns_to_scale].std()\n",
    "\n",
    "print(\"Means scaled columns:\")\n",
    "print(scaled_means)\n",
    "\n",
    "print(\"\\nStandard deviations scaled columns:\")\n",
    "print(scaled_stds)"
   ]
  },
  {
   "cell_type": "code",
   "execution_count": null,
   "id": "2484450f78952d0d",
   "metadata": {
    "ExecuteTime": {
     "end_time": "2025-01-06T16:53:33.543760Z",
     "start_time": "2025-01-06T16:53:33.541925Z"
    }
   },
   "outputs": [],
   "source": [
    "rf_model = RandomForestClassifier(\n",
    "    n_estimators=1000,\n",
    "    max_depth=None,\n",
    "    max_features='sqrt',\n",
    "    min_samples_leaf=2,\n",
    "    min_samples_split=10,\n",
    "    class_weight='balanced_subsample',\n",
    "    random_state=55,\n",
    "    n_jobs=-1\n",
    ")\n"
   ]
  },
  {
   "cell_type": "code",
   "execution_count": null,
   "id": "2a211de5a10d4750",
   "metadata": {
    "ExecuteTime": {
     "end_time": "2025-01-06T16:53:49.205201Z",
     "start_time": "2025-01-06T16:53:33.546095Z"
    }
   },
   "outputs": [],
   "source": [
    "rf_model.fit(X_train, y_train)\n"
   ]
  },
  {
   "cell_type": "code",
   "execution_count": null,
   "id": "d96167c38d9704b9",
   "metadata": {
    "ExecuteTime": {
     "end_time": "2025-01-06T16:53:50.307488Z",
     "start_time": "2025-01-06T16:53:49.316193Z"
    }
   },
   "outputs": [],
   "source": [
    "# Make predictions\n",
    "y_pred = rf_model.predict(X_test)\n",
    "y_pred_proba = rf_model.predict_proba(X_test)[:, 1]  # Probabilities for positive class\n",
    "\n"
   ]
  },
  {
   "cell_type": "code",
   "execution_count": null,
   "id": "a20028734454f665",
   "metadata": {
    "ExecuteTime": {
     "end_time": "2025-01-06T16:53:50.326623Z",
     "start_time": "2025-01-06T16:53:50.311639Z"
    }
   },
   "outputs": [],
   "source": [
    "# Evaluate the model\n",
    "print(\"Classification Report:\")\n",
    "print(classification_report(y_test, y_pred))\n"
   ]
  },
  {
   "cell_type": "code",
   "execution_count": null,
   "id": "d49b317fa01ad296",
   "metadata": {
    "ExecuteTime": {
     "end_time": "2025-01-06T16:53:50.342887Z",
     "start_time": "2025-01-06T16:53:50.339261Z"
    }
   },
   "outputs": [],
   "source": [
    "print(\"\\nConfusion Matrix:\")\n",
    "print(confusion_matrix(y_test, y_pred))\n"
   ]
  },
  {
   "cell_type": "code",
   "execution_count": null,
   "id": "7fc455847a15073c",
   "metadata": {
    "ExecuteTime": {
     "end_time": "2025-01-06T16:53:50.360402Z",
     "start_time": "2025-01-06T16:53:50.354922Z"
    }
   },
   "outputs": [],
   "source": [
    "roc_auc = roc_auc_score(y_test, y_pred_proba)\n",
    "print(f\"ROCAUC Score: {roc_auc:.4f}\")\n"
   ]
  },
  {
   "cell_type": "code",
   "execution_count": null,
   "id": "1e91655c3f1216d3",
   "metadata": {
    "ExecuteTime": {
     "end_time": "2025-01-06T16:54:20.326253Z",
     "start_time": "2025-01-06T16:54:20.255630Z"
    }
   },
   "outputs": [],
   "source": [
    "# Extract feature importances and sort them\n",
    "importances = rf_model.feature_importances_\n",
    "indices = importances.argsort()[::-1]\n",
    "\n",
    "# Get column names from the dataset\n",
    "feature_names = X.columns\n",
    "print( [feature_names[i] for i in indices[:100]])\n",
    "\n",
    "# Number of top features to display\n",
    "top_features = 14\n"
   ]
  },
  {
   "cell_type": "code",
   "execution_count": null,
   "id": "be2f056b31efa92e",
   "metadata": {
    "ExecuteTime": {
     "end_time": "2025-01-06T16:54:32.156770Z",
     "start_time": "2025-01-06T16:54:32.031523Z"
    }
   },
   "outputs": [],
   "source": [
    "# Plot feature importances with column names\n",
    "plt.figure(figsize=(20, 12))\n",
    "plt.barh(range(top_features), importances[indices[:top_features]], align='center')\n",
    "plt.yticks(range(top_features), [feature_names[i] for i in indices[:top_features]])\n",
    "plt.xlabel(\"F Importance\")\n",
    "plt.title(\"Top 14 Features\")\n",
    "plt.gca().invert_yaxis()\n",
    "plt.show()"
   ]
  }
 ],
 "metadata": {
  "kernelspec": {
   "display_name": "Python 3",
   "language": "python",
   "name": "python3"
  },
  "language_info": {
   "codemirror_mode": {
    "name": "ipython",
    "version": 2
   },
   "file_extension": ".py",
   "mimetype": "text/x-python",
   "name": "python",
   "nbconvert_exporter": "python",
   "pygments_lexer": "ipython2",
   "version": "2.7.6"
  }
 },
 "nbformat": 4,
 "nbformat_minor": 5
}
