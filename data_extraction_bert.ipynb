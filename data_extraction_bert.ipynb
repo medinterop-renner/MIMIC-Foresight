{
 "cells": [
  {
   "cell_type": "code",
   "execution_count": null,
   "id": "initial_id",
   "metadata": {
    "ExecuteTime": {
     "end_time": "2025-01-06T11:57:59.432075Z",
     "start_time": "2025-01-06T11:57:59.050764Z"
    },
    "collapsed": true
   },
   "outputs": [],
   "source": [
    "import pandas as pd\n",
    "import pandasql as ps\n",
    "pd.set_option('display.max_columns', None)\n",
    "pd.set_option('display.max_rows', None)"
   ]
  },
  {
   "cell_type": "code",
   "execution_count": null,
   "id": "edd3f4e44ca47ae2",
   "metadata": {
    "ExecuteTime": {
     "end_time": "2025-01-06T11:58:00.554823Z",
     "start_time": "2025-01-06T11:58:00.439485Z"
    }
   },
   "outputs": [],
   "source": [
    "patients = pd.read_csv(\"/Users/cc/Desktop/Work/Uni/Berner FH/DataSets/mimicCSV/mimic-iv-3.1/hosp/patients.csv\")\n",
    "patients = patients.set_index(\"subject_id\")\n",
    "print(patients.head(200))"
   ]
  },
  {
   "cell_type": "code",
   "execution_count": null,
   "id": "48e019d821302014",
   "metadata": {
    "ExecuteTime": {
     "end_time": "2025-01-06T11:58:02.938850Z",
     "start_time": "2025-01-06T11:58:02.349047Z"
    }
   },
   "outputs": [],
   "source": [
    "admissions = pd.read_csv(\"/Users/cc/Desktop/Work/Uni/Berner FH/DataSets/mimicCSV/mimic-iv-3.1/hosp/admissions.csv\")\n",
    "admissions = admissions.set_index(\"subject_id\")\n",
    "print(admissions.head(200))"
   ]
  },
  {
   "cell_type": "code",
   "execution_count": 4,
   "id": "8261a06efcb9936d",
   "metadata": {
    "ExecuteTime": {
     "end_time": "2025-01-06T11:58:05.041800Z",
     "start_time": "2025-01-06T11:58:04.458450Z"
    }
   },
   "outputs": [],
   "source": [
    "all_admissions = pd.read_csv(\"/Users/cc/Desktop/Work/Uni/Berner FH/DataSets/mimicCSV/mimic-iv-3.1/hosp/admissions.csv\")\n",
    "all_admissions = all_admissions.set_index(\"subject_id\")"
   ]
  },
  {
   "cell_type": "code",
   "execution_count": null,
   "id": "ae213f7a7393c08d",
   "metadata": {
    "ExecuteTime": {
     "end_time": "2025-01-06T11:58:06.085846Z",
     "start_time": "2025-01-06T11:58:06.060468Z"
    }
   },
   "outputs": [],
   "source": [
    "all_admissions.head(200)"
   ]
  },
  {
   "cell_type": "code",
   "execution_count": null,
   "id": "bcd22e04ae0828ba",
   "metadata": {
    "ExecuteTime": {
     "end_time": "2025-01-06T11:58:08.500745Z",
     "start_time": "2025-01-06T11:58:07.704311Z"
    }
   },
   "outputs": [],
   "source": [
    "diagnoses_icd = pd.read_csv(\"/Users/cc/Desktop/Work/Uni/Berner FH/DataSets/mimicCSV/mimic-iv-3.1/hosp/diagnoses_icd.csv\")\n",
    "print(diagnoses_icd.head(200))"
   ]
  },
  {
   "cell_type": "code",
   "execution_count": null,
   "id": "a1a4568e2865f324",
   "metadata": {
    "ExecuteTime": {
     "end_time": "2025-01-06T11:58:10.046222Z",
     "start_time": "2025-01-06T11:58:09.967176Z"
    }
   },
   "outputs": [],
   "source": [
    "d_icd_diagnoses = pd.read_csv(\"/Users/cc/Desktop/Work/Uni/Berner FH/DataSets/mimicCSV/mimic-iv-3.1/hosp/d_icd_diagnoses.csv\")\n",
    "print(d_icd_diagnoses.head(200))"
   ]
  },
  {
   "cell_type": "code",
   "execution_count": null,
   "id": "310dcd5d69bd9afe",
   "metadata": {
    "ExecuteTime": {
     "end_time": "2025-01-06T11:58:11.471860Z",
     "start_time": "2025-01-06T11:58:11.413454Z"
    }
   },
   "outputs": [],
   "source": [
    "d_icd_procedures = pd.read_csv(\"/Users/cc/Desktop/Work/Uni/Berner FH/DataSets/mimicCSV/mimic-iv-3.1/hosp/d_icd_procedures.csv\")\n",
    "print(d_icd_procedures.head(200))"
   ]
  },
  {
   "cell_type": "code",
   "execution_count": null,
   "id": "4e77f4680a722ef5",
   "metadata": {
    "ExecuteTime": {
     "end_time": "2025-01-06T11:58:13.365765Z",
     "start_time": "2025-01-06T11:58:13.192389Z"
    }
   },
   "outputs": [],
   "source": [
    "procedures_icd = pd.read_csv(\"/Users/cc/Desktop/Work/Uni/Berner FH/DataSets/mimicCSV/mimic-iv-3.1/hosp/procedures_icd.csv\")\n",
    "print(procedures_icd.head(200))"
   ]
  },
  {
   "cell_type": "code",
   "execution_count": null,
   "id": "ea244729faf31d",
   "metadata": {
    "ExecuteTime": {
     "end_time": "2025-01-06T11:58:14.942631Z",
     "start_time": "2025-01-06T11:58:14.753369Z"
    }
   },
   "outputs": [],
   "source": [
    "drgcodes = pd.read_csv(\"/Users/cc/Desktop/Work/Uni/Berner FH/DataSets/mimicCSV/mimic-iv-3.1/hosp/drgcodes.csv\")\n",
    "print(drgcodes.head(200))"
   ]
  },
  {
   "cell_type": "code",
   "execution_count": null,
   "id": "74f11f53754657c4",
   "metadata": {
    "ExecuteTime": {
     "end_time": "2025-01-06T11:56:01.743299Z",
     "start_time": "2025-01-06T11:56:01.740591Z"
    }
   },
   "outputs": [],
   "source": [
    "'''sql_query = \"\"\"\n",
    "SELECT COUNT(DISTINCT subject_id)\n",
    "FROM admissions\n",
    "\n",
    "\n",
    "\"\"\"\n",
    "print(ps.sqldf(sql_query,locals()))'''"
   ]
  },
  {
   "cell_type": "code",
   "execution_count": null,
   "id": "1cfc669035286dc9",
   "metadata": {
    "ExecuteTime": {
     "end_time": "2025-01-06T11:56:01.769578Z",
     "start_time": "2025-01-06T11:56:01.767528Z"
    }
   },
   "outputs": [],
   "source": [
    "'''sql_query = \"\"\"\n",
    "SELECT COUNT(DISTINCT subject_id)\n",
    "FROM all_admissions\n",
    "\n",
    "\n",
    "\"\"\"\n",
    "print(ps.sqldf(sql_query,locals()))'''"
   ]
  },
  {
   "cell_type": "markdown",
   "id": "8387757ba85e4b07",
   "metadata": {},
   "source": [
    "# Aggregation of diagnoses\n"
   ]
  },
  {
   "cell_type": "code",
   "execution_count": 11,
   "id": "b1e1cbc7a6cc1711",
   "metadata": {
    "ExecuteTime": {
     "end_time": "2025-01-06T11:58:52.878397Z",
     "start_time": "2025-01-06T11:58:18.117464Z"
    }
   },
   "outputs": [],
   "source": [
    "# Group diagnose descriptions (both of icd 9 and 10) by subject id need to join diagnoses_icd table with d_icd_diagnose to get the text description of which patient got which diagnose ...\n",
    "sql_query = \"\"\"\n",
    "SELECT\n",
    "    a.subject_id,\n",
    "    GROUP_CONCAT(CASE WHEN di.icd_version = 9 THEN long_title END, ',') AS icd9Diagnoses,\n",
    "    GROUP_CONCAT(CASE WHEN di.icd_version = 10 THEN long_title END, ',') AS icd10Diagnoses\n",
    "FROM admissions a\n",
    "JOIN diagnoses_icd di USING (subject_id)\n",
    "JOIN d_icd_diagnoses USING (icd_code)\n",
    "GROUP BY a.subject_id\n",
    "\"\"\"\n",
    "diagnoses_aggr = ps.sqldf(sql_query, locals())\n"
   ]
  },
  {
   "cell_type": "markdown",
   "id": "9296fa48e8fe24e4",
   "metadata": {},
   "source": [
    "# Aggregation for Procedures\n",
    "same procedure as with icd diagnoses"
   ]
  },
  {
   "cell_type": "code",
   "execution_count": 12,
   "id": "ef2f83fc1c17be24",
   "metadata": {
    "ExecuteTime": {
     "end_time": "2025-01-06T11:59:03.270241Z",
     "start_time": "2025-01-06T11:58:56.232134Z"
    }
   },
   "outputs": [],
   "source": [
    "# same as above...\n",
    "sql_query = \"\"\"\n",
    "SELECT\n",
    "    a.subject_id,\n",
    "    GROUP_CONCAT(CASE WHEN pi.icd_version = 9 THEN long_title END, ',') AS icd9Procedures,\n",
    "    GROUP_CONCAT(CASE WHEN pi.icd_version = 10 THEN long_title END, ',') AS icd10Procedures\n",
    "FROM admissions a\n",
    "LEFT JOIN procedures_icd pi USING (subject_id)\n",
    "LEFT JOIN d_icd_procedures  USING (icd_code)\n",
    "GROUP BY a.subject_id\n",
    "\"\"\"\n",
    "\n",
    "procedures_aggr = ps.sqldf(sql_query, locals())\n"
   ]
  },
  {
   "cell_type": "code",
   "execution_count": 13,
   "id": "8ef13a72f572828",
   "metadata": {
    "ExecuteTime": {
     "end_time": "2025-01-06T11:59:15.969726Z",
     "start_time": "2025-01-06T11:59:03.273199Z"
    }
   },
   "outputs": [],
   "source": [
    "# merging diagnoses and procedures\n",
    "sql_query =\"\"\"\n",
    "    SELECT *\n",
    "    FROM procedures_aggr\n",
    "    JOIN diagnoses_aggr USING (subject_id)\n",
    "\"\"\"\n",
    "\n",
    "\n",
    "\n",
    "procedAndDiagnoses_aggr = ps.sqldf(sql_query, locals())"
   ]
  },
  {
   "cell_type": "markdown",
   "id": "f14055e3676df13b",
   "metadata": {},
   "source": [
    "# Adding Label (ground truth) for Data\n",
    "1 = died\n",
    "0 = survived"
   ]
  },
  {
   "cell_type": "code",
   "execution_count": null,
   "id": "fe67d35f24187577",
   "metadata": {
    "ExecuteTime": {
     "end_time": "2025-01-06T11:59:56.404723Z",
     "start_time": "2025-01-06T11:59:55.377500Z"
    }
   },
   "outputs": [],
   "source": [
    "sql_query = \"\"\"\n",
    "SELECT\n",
    "    subject_id,\n",
    "    icd9Procedures,\n",
    "    icd10Procedures,\n",
    "    icd9Diagnoses,\n",
    "    icd10Diagnoses,\n",
    "    drgDescription,\n",
    "    CASE WHEN p.dod IS NOT NULL THEN 1 ELSE 0 END AS died\n",
    "FROM procedAndDiagnosesAndDRG_aggr\n",
    "JOIN patients p USING (subject_id)\n",
    "\"\"\"\n",
    "procedAndDiagnosesAndDRGAndDeaths_aggr = ps.sqldf(sql_query, locals())"
   ]
  },
  {
   "cell_type": "code",
   "execution_count": null,
   "id": "7c174a05e4b30ade",
   "metadata": {
    "ExecuteTime": {
     "end_time": "2025-01-06T11:59:17.258838Z",
     "start_time": "2025-01-05T21:19:03.437607Z"
    }
   },
   "outputs": [],
   "source": [
    "sql_query = \"\"\"\n",
    "SELECT\n",
    "COUNT(subject_id)\n",
    "FROM procedAndDiagnosesAndDRGAndDeaths_aggr\"\"\"\n",
    "\n",
    "print(ps.sqldf(sql_query,locals()))"
   ]
  },
  {
   "cell_type": "code",
   "execution_count": null,
   "id": "dffaa7881fba3098",
   "metadata": {},
   "outputs": [],
   "source": [
    "procedAndDiagnosesAndDRGAndDeaths_aggr.head(200)"
   ]
  },
  {
   "cell_type": "code",
   "execution_count": 111,
   "id": "491dbc86c2934115",
   "metadata": {
    "ExecuteTime": {
     "end_time": "2025-01-06T11:59:17.286730Z",
     "start_time": "2025-01-05T21:19:05.222359Z"
    }
   },
   "outputs": [],
   "source": [
    "# save output\n",
    "output_path = \"/Users/cc/Desktop/Work/Uni/Berner FH/DataSets/mimicCSV/mimic-iv-3.1/hosp/shortform/diag_proc_drg_deaths_aggr.csv\"\n",
    "procedAndDiagnosesAndDRGAndDeaths_aggr.to_csv(output_path, index=False)"
   ]
  },
  {
   "cell_type": "code",
   "execution_count": 112,
   "id": "703cb887c705711c",
   "metadata": {
    "ExecuteTime": {
     "end_time": "2025-01-06T11:59:17.299263Z",
     "start_time": "2025-01-05T21:19:27.147506Z"
    }
   },
   "outputs": [],
   "source": [
    "\n",
    "import pandas as pd\n",
    "import pandasql as ps\n",
    "import nltk\n",
    "from nltk.corpus import stopwords\n",
    "from nltk.tokenize import word_tokenize\n",
    "from nltk.stem import WordNetLemmatizer\n",
    "\n"
   ]
  },
  {
   "cell_type": "code",
   "execution_count": null,
   "id": "6d99375dfff0b45c",
   "metadata": {
    "ExecuteTime": {
     "end_time": "2025-01-06T11:59:17.300705Z",
     "start_time": "2025-01-05T21:19:27.155146Z"
    }
   },
   "outputs": [],
   "source": [
    "nltk.download('stopwords')\n",
    "nltk.download('punkt')\n",
    "nltk.download('wordnet')\n",
    "nltk.download('punkt_tab')\n",
    "\n",
    "\n"
   ]
  },
  {
   "cell_type": "code",
   "execution_count": 114,
   "id": "71ce64f1a95c4e2f",
   "metadata": {
    "ExecuteTime": {
     "end_time": "2025-01-06T11:59:17.301103Z",
     "start_time": "2025-01-05T21:19:27.172971Z"
    }
   },
   "outputs": [],
   "source": [
    "# initialize stop words and lemmatizer\n",
    "stop_words = set(stopwords.words('english'))\n",
    "lemmatizer = WordNetLemmatizer()"
   ]
  },
  {
   "cell_type": "code",
   "execution_count": 115,
   "id": "94d4aeb7f39d76c5",
   "metadata": {
    "ExecuteTime": {
     "end_time": "2025-01-06T11:59:17.301253Z",
     "start_time": "2025-01-05T21:19:27.189195Z"
    }
   },
   "outputs": [],
   "source": [
    "# load data\n",
    "path = '/Users/cc/Desktop/Work/Uni/Berner FH/DataSets/mimicCSV/mimic-iv-3.1/hosp/shortform/diag_proc_drg_deaths_aggr.csv'\n",
    "allStringValues = pd.read_csv(path)"
   ]
  },
  {
   "cell_type": "code",
   "execution_count": 116,
   "id": "4324624fe3a4b1ac",
   "metadata": {
    "ExecuteTime": {
     "end_time": "2025-01-06T11:59:17.301399Z",
     "start_time": "2025-01-05T21:19:37.985034Z"
    }
   },
   "outputs": [],
   "source": [
    "# check the class distribution\n",
    "sql_query_died = \"SELECT COUNT(*) AS died_count FROM allStringValues WHERE died = 1\"\n",
    "sql_query_survived = \"SELECT COUNT(*) AS survived_count FROM allStringValues WHERE died = 0\"\n",
    "died_count = ps.sqldf(sql_query_died, locals()).iloc[0]['died_count']\n",
    "survived_count = ps.sqldf(sql_query_survived, locals()).iloc[0]['survived_count']"
   ]
  },
  {
   "cell_type": "code",
   "execution_count": null,
   "id": "b0bed952cfca3216",
   "metadata": {
    "ExecuteTime": {
     "end_time": "2025-01-06T11:59:17.301660Z",
     "start_time": "2025-01-05T21:19:41.554113Z"
    }
   },
   "outputs": [],
   "source": [
    "# num of deaths = 36872\n",
    "# num of survived = 186419\n",
    "print(f\"Number of deaths: {died_count}\")\n",
    "print(f\"Number of survived: {survived_count}\")"
   ]
  },
  {
   "cell_type": "code",
   "execution_count": 118,
   "id": "5e57c4ad19025a04",
   "metadata": {
    "ExecuteTime": {
     "end_time": "2025-01-06T11:59:17.301789Z",
     "start_time": "2025-01-05T21:19:41.568511Z"
    }
   },
   "outputs": [],
   "source": [
    "# shuffle the dataset\n",
    "survived_rows = allStringValues[allStringValues['died'] == 0].sample(frac=1, random_state=82)\n",
    "# sample survived rows with num of died rows\n",
    "survived_sample = survived_rows.sample(n=died_count, random_state=52)\n",
    "# extract died rows\n",
    "died_rows = allStringValues[allStringValues['died'] == 1]\n",
    "# combine dataset\n",
    "balanced_df = pd.concat([died_rows, survived_sample]).sample(frac=1, random_state=23)\n"
   ]
  },
  {
   "cell_type": "code",
   "execution_count": null,
   "id": "f4bf097152647d26",
   "metadata": {
    "ExecuteTime": {
     "end_time": "2025-01-06T11:59:17.301901Z",
     "start_time": "2025-01-05T21:19:41.659265Z"
    }
   },
   "outputs": [],
   "source": [
    "# Verify the balanced df\n",
    "print(balanced_df['died'].value_counts())"
   ]
  },
  {
   "cell_type": "code",
   "execution_count": null,
   "id": "d55fa100869e635f",
   "metadata": {
    "ExecuteTime": {
     "end_time": "2025-01-06T11:59:17.302022Z",
     "start_time": "2025-01-05T21:19:41.675626Z"
    }
   },
   "outputs": [],
   "source": [
    "# added this code to reduce dataset in order to speed up fine tuning ....\n",
    "hboolean = True  #set to false to keep origin dataset\n",
    "\n",
    "if hboolean:\n",
    "    print(\"Reducing dataset to 500 samples per category...\")\n",
    "    balanced_df = pd.concat([\n",
    "        balanced_df[balanced_df['died'] == 0].sample(n=1000, random_state=62),\n",
    "        balanced_df[balanced_df['died'] == 1].sample(n=1000, random_state=49)\n",
    "    ])\n",
    "    print(balanced_df['died'].value_counts())  # Verify ds\n",
    "else:\n",
    "    print(\"Keeping the dataset as is.\")"
   ]
  },
  {
   "cell_type": "markdown",
   "id": "727a5b05ac92ef66",
   "metadata": {},
   "source": [
    "# Text processing"
   ]
  },
  {
   "cell_type": "code",
   "execution_count": 121,
   "id": "695aa718c8788e35",
   "metadata": {
    "ExecuteTime": {
     "end_time": "2025-01-06T11:59:17.302147Z",
     "start_time": "2025-01-05T21:19:41.691583Z"
    }
   },
   "outputs": [],
   "source": [
    "# Rename died to encoded text for BERT\n",
    "balanced_df['encoded_text'] = balanced_df['died']\n",
    "balanced_df = balanced_df.drop(columns=['died'])\n"
   ]
  },
  {
   "cell_type": "code",
   "execution_count": 122,
   "id": "7a2c2bb372fe38c",
   "metadata": {
    "ExecuteTime": {
     "end_time": "2025-01-06T11:59:17.302259Z",
     "start_time": "2025-01-05T21:19:41.711172Z"
    }
   },
   "outputs": [],
   "source": [
    "# combine  columns into one text column\n",
    "balanced_df['text'] = balanced_df.drop(columns=['subject_id', 'encoded_text']).apply(\n",
    "    lambda row: ', '.join([str(val) for val in row if pd.notna(val)]), axis=1\n",
    ")"
   ]
  },
  {
   "cell_type": "code",
   "execution_count": 123,
   "id": "b2216cf56ea75ef3",
   "metadata": {
    "ExecuteTime": {
     "end_time": "2025-01-06T11:59:17.302370Z",
     "start_time": "2025-01-05T21:19:42.044956Z"
    }
   },
   "outputs": [],
   "source": [
    "# keep only necessary columns\n",
    "balanced_df = balanced_df[['subject_id', 'encoded_text', 'text']]"
   ]
  },
  {
   "cell_type": "code",
   "execution_count": null,
   "id": "8337560f1edfd462",
   "metadata": {},
   "outputs": [],
   "source": [
    "# verify\n",
    "balanced_df.head(100)"
   ]
  },
  {
   "cell_type": "code",
   "execution_count": 125,
   "id": "eb1fa164864c31ad",
   "metadata": {
    "ExecuteTime": {
     "end_time": "2025-01-06T11:59:17.308781Z",
     "start_time": "2025-01-05T21:19:42.102077Z"
    }
   },
   "outputs": [],
   "source": [
    "# preprocessing function lemmatization and stop words"
   ]
  },
  {
   "cell_type": "code",
   "execution_count": 126,
   "id": "b6ef3a0bbc518c36",
   "metadata": {},
   "outputs": [],
   "source": [
    "def preprocess_text(text):\n",
    "    words = word_tokenize(text.lower())\n",
    "    words = [lemmatizer.lemmatize(word) for word in words if word.isalnum() and word not in stop_words]\n",
    "    return \"\".join(words)"
   ]
  },
  {
   "cell_type": "code",
   "execution_count": 127,
   "id": "a3e06fb7895785a8",
   "metadata": {
    "ExecuteTime": {
     "end_time": "2025-01-06T11:59:17.311907Z",
     "start_time": "2025-01-05T21:19:42.162260Z"
    }
   },
   "outputs": [],
   "source": [
    "balanced_df['text'] = balanced_df['text'].apply(preprocess_text)"
   ]
  },
  {
   "cell_type": "code",
   "execution_count": 128,
   "id": "8faa4984ab70a5af",
   "metadata": {
    "ExecuteTime": {
     "end_time": "2025-01-06T11:59:17.312275Z",
     "start_time": "2025-01-05T21:33:47.409997Z"
    }
   },
   "outputs": [],
   "source": [
    "# save otput\n",
    "output_path = '/Users/cc/Desktop/Work/Uni/Berner FH/DataSets/mimicCSV/mimic-iv-3.1/hosp/shortform/preprocessed_for_bert.csv'\n",
    "\n",
    "balanced_df.to_csv(output_path, index=False)"
   ]
  }
 ],
 "metadata": {
  "kernelspec": {
   "display_name": "Python 3",
   "language": "python",
   "name": "python3"
  },
  "language_info": {
   "codemirror_mode": {
    "name": "ipython",
    "version": 2
   },
   "file_extension": ".py",
   "mimetype": "text/x-python",
   "name": "python",
   "nbconvert_exporter": "python",
   "pygments_lexer": "ipython2",
   "version": "2.7.6"
  }
 },
 "nbformat": 4,
 "nbformat_minor": 5
}
