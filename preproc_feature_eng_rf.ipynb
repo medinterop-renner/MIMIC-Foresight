{
 "cells": [
  {
   "cell_type": "code",
   "execution_count": null,
   "id": "fe2dbb201e51d325",
   "metadata": {
    "ExecuteTime": {
     "end_time": "2025-01-06T09:20:00.509239Z",
     "start_time": "2025-01-06T09:20:00.144708Z"
    }
   },
   "outputs": [],
   "source": [
    "import pandas as pd\n",
    "import pandasql as ps\n",
    "import matplotlib.pyplot as plt"
   ]
  },
  {
   "cell_type": "markdown",
   "id": "e1590a6f46ae28d9",
   "metadata": {},
   "source": [
    "### Loading Data"
   ]
  },
  {
   "cell_type": "code",
   "execution_count": null,
   "id": "ece6d8a3b9266e66",
   "metadata": {
    "ExecuteTime": {
     "end_time": "2025-01-06T09:20:01.071219Z",
     "start_time": "2025-01-06T09:20:00.517242Z"
    }
   },
   "outputs": [],
   "source": [
    "admissions = pd.read_csv(\"/Users/cc/Desktop/Work/Uni/Berner FH/DataSets/mimicCSV/mimic-iv-3.1/hosp/admissions.csv\")\n",
    "print(admissions.head(200))"
   ]
  },
  {
   "cell_type": "code",
   "execution_count": null,
   "id": "3f0ef42ee44ea9ba",
   "metadata": {
    "ExecuteTime": {
     "end_time": "2025-01-06T09:20:01.119473Z",
     "start_time": "2025-01-06T09:20:01.116630Z"
    }
   },
   "outputs": [],
   "source": [
    "'''patients = pd.read_csv(\"/Users/cc/Desktop/Work/Uni/Berner FH/DataSets/mimicCSV/mimic-iv-3.1/hosp/patients.csv\")\n",
    "print(patients.head(200))'''"
   ]
  },
  {
   "cell_type": "code",
   "execution_count": null,
   "id": "initial_id",
   "metadata": {
    "ExecuteTime": {
     "end_time": "2025-01-06T09:20:01.357414Z",
     "start_time": "2025-01-06T09:20:01.152749Z"
    },
    "collapsed": true
   },
   "outputs": [],
   "source": [
    "drgcodes = pd.read_csv(\"/Users/cc/Desktop/Work/Uni/Berner FH/DataSets/mimicCSV/mimic-iv-3.1/hosp/drgcodes.csv\")\n",
    "print(drgcodes.head(200))"
   ]
  },
  {
   "cell_type": "code",
   "execution_count": null,
   "id": "794428931f4221cf",
   "metadata": {
    "ExecuteTime": {
     "end_time": "2025-01-06T09:20:01.549010Z",
     "start_time": "2025-01-06T09:20:01.363579Z"
    }
   },
   "outputs": [],
   "source": [
    "procedures_icd = pd.read_csv(\"/Users/cc/Desktop/Work/Uni/Berner FH/DataSets/mimicCSV/mimic-iv-3.1/hosp/procedures_icd.csv\")\n",
    "print(procedures_icd.head(200))"
   ]
  },
  {
   "cell_type": "code",
   "execution_count": null,
   "id": "9591f9e29219e826",
   "metadata": {
    "ExecuteTime": {
     "end_time": "2025-01-06T09:20:02.333448Z",
     "start_time": "2025-01-06T09:20:01.556369Z"
    }
   },
   "outputs": [],
   "source": [
    "diagnoses_icd = pd.read_csv(\"/Users/cc/Desktop/Work/Uni/Berner FH/DataSets/mimicCSV/mimic-iv-3.1/hosp/diagnoses_icd.csv\")\n",
    "print(diagnoses_icd.head(200))"
   ]
  },
  {
   "cell_type": "markdown",
   "id": "f35ea0698b7f3bb7",
   "metadata": {},
   "source": [
    "#### Look at Different Categorical Feattures"
   ]
  },
  {
   "cell_type": "code",
   "execution_count": null,
   "id": "6891b0fe86e31b83",
   "metadata": {
    "ExecuteTime": {
     "end_time": "2025-01-06T09:20:02.350853Z",
     "start_time": "2025-01-06T09:20:02.348470Z"
    }
   },
   "outputs": [],
   "source": [
    "'''# Count unique values in admissions\n",
    "sql_query = \"\"\"\n",
    "SELECT COUNT(DISTINCT subject_id) as patients, COUNT(DISTINCT hadm_id) as stays,COUNT(DISTINCT admission_type) as type,COUNT(DISTINCT admit_provider_id) as provider, COUNT(DISTINCT admission_location) as admission_location, COUNT(DISTINCT discharge_location) as discharge_location, COUNT(DISTINCT insurance) as insurance, COUNT(DISTINCT language) as language, COUNT(DISTINCT marital_status) as marital_status, COUNT(DISTINCT race) as race\n",
    "FROM admissions\n",
    "\n",
    "\n",
    "\"\"\"\n",
    "print(ps.sqldf(sql_query,locals()))'''\n"
   ]
  },
  {
   "cell_type": "code",
   "execution_count": null,
   "id": "225e9e79e605b2f2",
   "metadata": {
    "ExecuteTime": {
     "end_time": "2025-01-06T09:20:02.373813Z",
     "start_time": "2025-01-06T09:20:02.371666Z"
    }
   },
   "outputs": [],
   "source": [
    "'''sql_query = \"\"\"\n",
    "SELECT COUNT(DISTINCT gender ) AS gender, COUNT(DISTINCT anchor_age) as anchor_age, COUNT(DISTINCT anchor_year ) AS anchor_year,COUNT(DISTINCT anchor_year_group) AS anchor_year_group, COUNT(DISTINCT dod ) AS dod\n",
    "FROM patients\n",
    "\n",
    "\n",
    "\"\"\"\n",
    "print(ps.sqldf(sql_query,locals()))'''\n"
   ]
  },
  {
   "cell_type": "code",
   "execution_count": null,
   "id": "eea7570d1d62d9ce",
   "metadata": {
    "ExecuteTime": {
     "end_time": "2025-01-06T09:20:02.404122Z",
     "start_time": "2025-01-06T09:20:02.402034Z"
    }
   },
   "outputs": [],
   "source": [
    "'''# drgcodes\n",
    "sql_query = \"\"\"\n",
    "SELECT COUNT(DISTINCT drg_type) AS drg_typeCategories , COUNT(DISTINCT drg_code) AS drg_codeCategories, COUNT(DISTINCT drg_severity) AS drg_severityCategories , COUNT(DISTINCT drg_mortality) AS drg_mortalityCategories\n",
    "FROM drgcodes\n",
    "\n",
    "\n",
    "\"\"\"\n",
    "print(ps.sqldf(sql_query,locals()))'''"
   ]
  },
  {
   "cell_type": "code",
   "execution_count": null,
   "id": "f919e022155e9e65",
   "metadata": {
    "ExecuteTime": {
     "end_time": "2025-01-06T09:20:02.423694Z",
     "start_time": "2025-01-06T09:20:02.421566Z"
    }
   },
   "outputs": [],
   "source": [
    "'''sql_query = \"\"\"\n",
    "SELECT COUNT(DISTINCT icd_code) AS icd_code, COUNT(DISTINCT icd_version) AS icd_version\n",
    "FROM procedures_icd\n",
    "\n",
    "\n",
    "\"\"\"\n",
    "print(ps.sqldf(sql_query,locals()))'''\n",
    "\n",
    "\n"
   ]
  },
  {
   "cell_type": "code",
   "execution_count": null,
   "id": "fd51cd1ff26e8fbd",
   "metadata": {
    "ExecuteTime": {
     "end_time": "2025-01-06T09:20:02.456709Z",
     "start_time": "2025-01-06T09:20:02.454373Z"
    }
   },
   "outputs": [],
   "source": [
    "'''sql_query = \"\"\"\n",
    "SELECT COUNT(DISTINCT icd_code) AS icd_code, COUNT(DISTINCT icd_version) AS icd_version\n",
    "FROM diagnoses_icd\n",
    "\n",
    "\n",
    "\"\"\"\n",
    "print(ps.sqldf(sql_query,locals()))'''\n"
   ]
  },
  {
   "cell_type": "code",
   "execution_count": null,
   "id": "81e7fa9f2262d480",
   "metadata": {
    "ExecuteTime": {
     "end_time": "2025-01-06T09:20:06.011180Z",
     "start_time": "2025-01-06T09:20:02.472047Z"
    }
   },
   "outputs": [],
   "source": [
    "# selecting columns for feature eng. and further analysis\n",
    "sql_query = \"\"\"\n",
    "SELECT\n",
    "    subject_id,\n",
    "    hadm_id,\n",
    "    admittime,\n",
    "    dischtime,\n",
    "    admission_type,\n",
    "    admission_location,\n",
    "    insurance\n",
    "FROM admissions\n",
    "\"\"\"\n",
    "\n",
    "# Load the admissions data\n",
    "admissions = ps.sqldf(sql_query, locals())"
   ]
  },
  {
   "cell_type": "code",
   "execution_count": null,
   "id": "6e929f4293181c77",
   "metadata": {
    "ExecuteTime": {
     "end_time": "2025-01-06T09:20:06.129830Z",
     "start_time": "2025-01-06T09:20:06.018798Z"
    }
   },
   "outputs": [],
   "source": [
    "# convert admit time and dischtime to datetime format\n",
    "admissions['admittime'] = pd.to_datetime(admissions['admittime'])\n",
    "admissions['dischtime'] = pd.to_datetime(admissions['dischtime'])"
   ]
  },
  {
   "cell_type": "code",
   "execution_count": null,
   "id": "176fef78ad1525d7",
   "metadata": {
    "ExecuteTime": {
     "end_time": "2025-01-06T09:20:06.147008Z",
     "start_time": "2025-01-06T09:20:06.136458Z"
    }
   },
   "outputs": [],
   "source": [
    "# calculating Length of stays LOS in days\n",
    "# number of days patient stayed in the hospital\n",
    "admissions['length_of_stay'] = (admissions['dischtime'] - admissions['admittime']).dt.total_seconds() / (24 * 3600)\n",
    "admissions.head(200)"
   ]
  },
  {
   "cell_type": "code",
   "execution_count": null,
   "id": "7a1f354241e96b42",
   "metadata": {
    "ExecuteTime": {
     "end_time": "2025-01-06T09:20:06.213495Z",
     "start_time": "2025-01-06T09:20:06.172848Z"
    }
   },
   "outputs": [],
   "source": [
    "# encode admission type\n",
    "admissions['admission_type_encoded'] = admissions['admission_type'].astype('category').cat.codes\n",
    "admissions.head(200)"
   ]
  },
  {
   "cell_type": "code",
   "execution_count": null,
   "id": "38bf70249892af8d",
   "metadata": {
    "ExecuteTime": {
     "end_time": "2025-01-06T09:20:06.316835Z",
     "start_time": "2025-01-06T09:20:06.239376Z"
    }
   },
   "outputs": [],
   "source": [
    "# Creating a lookup table to keep track of my features\n",
    "admission_type_lookup = pd.DataFrame({\n",
    "    'admission_type': admissions['admission_type'].astype('category').cat.categories,\n",
    "    'admission_type_encoded': range(len(admissions['admission_type'].astype('category').cat.categories))\n",
    "})\n",
    "\n",
    "admission_type_lookup.head(200)"
   ]
  },
  {
   "cell_type": "markdown",
   "id": "3a129c4a77c7af82",
   "metadata": {},
   "source": [
    "Admission location"
   ]
  },
  {
   "cell_type": "code",
   "execution_count": null,
   "id": "bb594a6cfdaa0e02",
   "metadata": {
    "ExecuteTime": {
     "end_time": "2025-01-06T09:20:06.424596Z",
     "start_time": "2025-01-06T09:20:06.391241Z"
    }
   },
   "outputs": [],
   "source": [
    "# admission location encoding\n",
    "admissions['admission_location_encoded'] = admissions['admission_location'].astype('category').cat.codes\n",
    "admissions.head(200)"
   ]
  },
  {
   "cell_type": "code",
   "execution_count": null,
   "id": "a9eef1305a50982b",
   "metadata": {
    "ExecuteTime": {
     "end_time": "2025-01-06T09:20:06.509850Z",
     "start_time": "2025-01-06T09:20:06.461152Z"
    }
   },
   "outputs": [],
   "source": [
    "# create lookup table for refrence\n",
    "admission_location_lookup = pd.DataFrame({\n",
    "    'category': 'admission_location',\n",
    "    'value': admissions['admission_location'].astype('category').cat.categories,\n",
    "    'encoded_value': range(len(admissions['admission_location'].astype('category').cat.categories))\n",
    "})\n",
    "admission_location_lookup.head(200)"
   ]
  },
  {
   "cell_type": "code",
   "execution_count": null,
   "id": "f4f1e77d246894b2",
   "metadata": {
    "ExecuteTime": {
     "end_time": "2025-01-06T09:20:06.627775Z",
     "start_time": "2025-01-06T09:20:06.605775Z"
    }
   },
   "outputs": [],
   "source": [
    "# encode insurance\n",
    "admissions['insurance_encoded'] = admissions['insurance'].astype('category').cat.codes"
   ]
  },
  {
   "cell_type": "code",
   "execution_count": null,
   "id": "2c7ab8f0f7051a16",
   "metadata": {
    "ExecuteTime": {
     "end_time": "2025-01-06T09:20:06.703666Z",
     "start_time": "2025-01-06T09:20:06.666125Z"
    }
   },
   "outputs": [],
   "source": [
    "# creating lookup table for reference\n",
    "insurance_lookup = pd.DataFrame({\n",
    "    'category': 'insurance',\n",
    "    'value': admissions['insurance'].astype('category').cat.categories,\n",
    "    'encoded_value': range(len(admissions['insurance'].astype('category').cat.categories))\n",
    "})\n",
    "insurance_lookup.head(200)"
   ]
  },
  {
   "cell_type": "code",
   "execution_count": null,
   "id": "861f7374ba37f0b1",
   "metadata": {
    "ExecuteTime": {
     "end_time": "2025-01-06T09:20:06.743111Z",
     "start_time": "2025-01-06T09:20:06.736939Z"
    }
   },
   "outputs": [],
   "source": [
    "# 1. common structure for look up table\n",
    "admission_type_lookup['category'] = 'admission_type'\n",
    "admission_type_lookup = admission_type_lookup.rename(columns={'admission_type': 'value', 'admission_type_encoded': 'encoded_value'})\n",
    "\n",
    "# admissions\n",
    "admission_location_lookup['category'] = 'admission_location'\n",
    "admission_location_lookup = admission_location_lookup.rename(columns={'admission_location': 'value', 'admission_location_encoded': 'encoded_value'})\n",
    "\n",
    "# Insurance\n",
    "insurance_lookup['category'] = 'insurance'\n",
    "insurance_lookup = insurance_lookup.rename(columns={'insurance': 'value', 'insurance_encoded': 'encoded_value'})\n",
    "\n",
    "# 2 all look up tables into one structure\n",
    "lookup_combined = pd.concat([admission_type_lookup, admission_location_lookup, insurance_lookup], ignore_index=True)\n",
    "\n",
    "#  3: Rearrange columns\n",
    "lookup_combined = lookup_combined[['category', 'value', 'encoded_value']]\n",
    "lookup_combined_admissions = lookup_combined.sort_values(by=['category', 'encoded_value']).reset_index(drop=True)\n",
    "\n",
    "# save output\n",
    "lookup_combined_admissions.to_csv('/Users/cc/Desktop/Work/Uni/Berner FH/DataSets/mimicCSV/mimic-iv-3.1/hosp/shortform/Look Up Tables/AdmissionsLU.csv', index=False)"
   ]
  },
  {
   "cell_type": "code",
   "execution_count": null,
   "id": "7eaf3bac7f6cafd2",
   "metadata": {
    "ExecuteTime": {
     "end_time": "2025-01-06T09:20:46.559677Z",
     "start_time": "2025-01-06T09:20:06.826010Z"
    }
   },
   "outputs": [],
   "source": [
    "# aggregate features from admissions for one patient ( multiple stays - multiple entries)\n",
    "admissions_aggregated = admissions.groupby('subject_id').agg({\n",
    "    'length_of_stay': ['mean', 'sum', 'max', 'count'],  # Length of stay stats\n",
    "    'admission_type_encoded': lambda x: x.mode().iloc[0] if not x.mode().empty else None,  # mode   admission type\n",
    "    'admission_location_encoded': lambda x: x.mode().iloc[0] if not x.mode().empty else None,  # mode  admission location\n",
    "    'insurance_encoded': lambda x: x.mode().iloc[0] if not x.mode().empty else None  # mode insurance type\n",
    "}).reset_index()\n",
    "\n",
    "# Rename columns\n",
    "admissions_aggregated.columns = [\n",
    "    'subject_id',\n",
    "    'mean_los', 'total_los', 'max_los', 'num_admissions',\n",
    "    'most_common_admission_type',\n",
    "    'most_common_admission_location',\n",
    "    'most_common_insurance_type'\n",
    "]"
   ]
  },
  {
   "cell_type": "code",
   "execution_count": null,
   "id": "5a89f45baf2ca186",
   "metadata": {
    "ExecuteTime": {
     "end_time": "2025-01-06T09:20:46.580676Z",
     "start_time": "2025-01-06T09:20:46.577552Z"
    }
   },
   "outputs": [],
   "source": [
    "# save into new data frame for clarity\n",
    "final_admissions_features = admissions_aggregated.copy()"
   ]
  },
  {
   "cell_type": "code",
   "execution_count": null,
   "id": "1af42c97cb2adda5",
   "metadata": {
    "ExecuteTime": {
     "end_time": "2025-01-06T09:20:47.003485Z",
     "start_time": "2025-01-06T09:20:46.589706Z"
    }
   },
   "outputs": [],
   "source": [
    "final_admissions_features.to_csv('/Users/cc/Desktop/Work/Uni/Berner FH/DataSets/mimicCSV/mimic-iv-3.1/hosp/shortform/Look Up Tables/final_admission_features.csv', index=False)"
   ]
  },
  {
   "cell_type": "code",
   "execution_count": null,
   "id": "dd0fe2e8eb598746",
   "metadata": {
    "ExecuteTime": {
     "end_time": "2025-01-06T09:24:55.754921Z",
     "start_time": "2025-01-06T09:24:51.734292Z"
    }
   },
   "outputs": [],
   "source": [
    "p = pd.read_csv(\"/Users/cc/Desktop/Work/Uni/Berner FH/DataSets/mimicCSV/mimic-iv-3.1/hosp/patients.csv\")\n",
    "# really strange bug --> got admission data for patients object --> load patients df again.\n",
    "#extracting all relevant features\n",
    "ql_query = \"\"\"\n",
    "SELECT\n",
    "    subject_id,\n",
    "    gender,\n",
    "    anchor_age,\n",
    "    dod\n",
    "FROM p\n",
    "\"\"\"\n",
    "\n",
    "\n",
    "patients = ps.sqldf(sql_query, locals())\n",
    "patients = p"
   ]
  },
  {
   "cell_type": "code",
   "execution_count": null,
   "id": "f02540d0fb243e2",
   "metadata": {
    "ExecuteTime": {
     "end_time": "2025-01-06T09:20:50.881555Z",
     "start_time": "2025-01-06T09:20:50.879397Z"
    }
   },
   "outputs": [],
   "source": [
    "'''sql_query = \"\"\"\n",
    "SELECT\n",
    "    COUNT( subject_id)\n",
    "FROM patients\n",
    "\"\"\"\n",
    "\n",
    "print(ps.sqldf(sql_query, locals()))'''"
   ]
  },
  {
   "cell_type": "code",
   "execution_count": null,
   "id": "abd3f32eefd0e38f",
   "metadata": {
    "ExecuteTime": {
     "end_time": "2025-01-06T09:24:57.992142Z",
     "start_time": "2025-01-06T09:24:57.987636Z"
    }
   },
   "outputs": [],
   "source": [
    "patients.head(200)"
   ]
  },
  {
   "cell_type": "code",
   "execution_count": null,
   "id": "fb4468806c93ded2",
   "metadata": {
    "ExecuteTime": {
     "end_time": "2025-01-06T09:25:02.188402Z",
     "start_time": "2025-01-06T09:25:02.161632Z"
    }
   },
   "outputs": [],
   "source": [
    "# Binary encoding gender\n",
    "patients['gender_encoded'] = patients['gender'].astype('category').cat.codes\n",
    "\n",
    "# Gender Lookup Table\n",
    "gender_lookup = pd.DataFrame({\n",
    "    'category': 'gender',\n",
    "    'value': patients['gender'].astype('category').cat.categories,\n",
    "    'encoded_value': range(len(patients['gender'].astype('category').cat.categories))\n",
    "})"
   ]
  },
  {
   "cell_type": "code",
   "execution_count": null,
   "id": "646697be30505ad2",
   "metadata": {
    "ExecuteTime": {
     "end_time": "2025-01-06T09:25:05.551511Z",
     "start_time": "2025-01-06T09:25:05.547318Z"
    }
   },
   "outputs": [],
   "source": [
    "gender_lookup.head(200)"
   ]
  },
  {
   "cell_type": "code",
   "execution_count": null,
   "id": "d8290c6574213646",
   "metadata": {
    "ExecuteTime": {
     "end_time": "2025-01-06T09:25:05.643463Z",
     "start_time": "2025-01-06T09:25:05.585571Z"
    }
   },
   "outputs": [],
   "source": [
    "# function to bucketize age\n",
    "def bucketize_age(age):\n",
    "    if age <= 20:\n",
    "        return 0\n",
    "    elif age <= 40:\n",
    "        return 1\n",
    "    elif age <= 60:\n",
    "        return 2\n",
    "    elif age <= 80:\n",
    "        return 3\n",
    "    else:\n",
    "        return 4\n",
    "\n",
    "# apply it to dataframe\n",
    "patients['age_bucket'] = patients['anchor_age'].apply(bucketize_age)\n",
    "\n",
    "# Age Bucket Lookup Table\n",
    "age_bucket_lookup = pd.DataFrame({\n",
    "    'category': 'age_bucket',\n",
    "    'value': ['0-20', '21-40', '41-60', '61-80', '81+'],\n",
    "    'encoded_value': range(5)\n",
    "})\n",
    "\n"
   ]
  },
  {
   "cell_type": "code",
   "execution_count": null,
   "id": "c4cf746ce95437bd",
   "metadata": {
    "ExecuteTime": {
     "end_time": "2025-01-06T09:25:05.665114Z",
     "start_time": "2025-01-06T09:25:05.661704Z"
    }
   },
   "outputs": [],
   "source": [
    "age_bucket_lookup.head(200)"
   ]
  },
  {
   "cell_type": "code",
   "execution_count": null,
   "id": "9be59a613cf9efc7",
   "metadata": {
    "ExecuteTime": {
     "end_time": "2025-01-06T09:25:05.695095Z",
     "start_time": "2025-01-06T09:25:05.688981Z"
    }
   },
   "outputs": [],
   "source": [
    "# if dod is not null 1 else 0 --> this means if the patient died in hospital or up to one year after the stay it is marked as died in my data\n",
    "patients['mortality'] = patients['dod'].notnull().astype(int)\n",
    "\n",
    "# Mortality Lookup Table\n",
    "mortality_lookup = pd.DataFrame({\n",
    "    'category': 'mortality',\n",
    "    'value': ['Survived', 'Died'],\n",
    "    'encoded_value': [0, 1]\n",
    "})\n",
    "\n"
   ]
  },
  {
   "cell_type": "code",
   "execution_count": null,
   "id": "fadcd755d11a2a06",
   "metadata": {
    "ExecuteTime": {
     "end_time": "2025-01-06T09:25:05.726491Z",
     "start_time": "2025-01-06T09:25:05.723178Z"
    }
   },
   "outputs": [],
   "source": [
    "mortality_lookup.head(200)"
   ]
  },
  {
   "cell_type": "code",
   "execution_count": null,
   "id": "891c257496dcd926",
   "metadata": {
    "ExecuteTime": {
     "end_time": "2025-01-06T09:25:05.771485Z",
     "start_time": "2025-01-06T09:25:05.765431Z"
    }
   },
   "outputs": [],
   "source": [
    "# 1 add category lables\n",
    "gender_lookup['category'] = 'gender'\n",
    "age_bucket_lookup['category'] = 'age_bucket'\n",
    "mortality_lookup['category'] = 'mortality'\n",
    "\n",
    "# 2 combine all look up tables into one\n",
    "lookup_combined_patients = pd.concat([gender_lookup, age_bucket_lookup, mortality_lookup], ignore_index=True)\n",
    "\n",
    "# 3 rearange and sort\n",
    "lookup_combined_patients = lookup_combined_patients[['category', 'value', 'encoded_value']]\n",
    "lookup_combined_patients = lookup_combined_patients.sort_values(by=['category', 'encoded_value']).reset_index(drop=True)\n",
    "\n",
    "# Save Lookup Table\n",
    "lookup_combined_patients.to_csv('/Users/cc/Desktop/Work/Uni/Berner FH/DataSets/mimicCSV/mimic-iv-3.1/hosp/shortform/Look Up Tables/patients_lookup_table.csv', index=False)\n",
    "lookup_combined_patients.head(200)"
   ]
  },
  {
   "cell_type": "code",
   "execution_count": null,
   "id": "9f472fd6eed4325b",
   "metadata": {
    "ExecuteTime": {
     "end_time": "2025-01-06T09:25:05.967623Z",
     "start_time": "2025-01-06T09:25:05.806033Z"
    }
   },
   "outputs": [],
   "source": [
    "# keep only required columns\n",
    "patients_final = patients[['subject_id', 'gender_encoded', 'age_bucket', 'mortality']]\n",
    "\n",
    "# save final data frame\n",
    "patients_final.to_csv('/Users/cc/Desktop/Work/Uni/Berner FH/DataSets/mimicCSV/mimic-iv-3.1/hosp/shortform/Look Up Tables/final_patients_features.csv', index=False)\n",
    "\n",
    "\n",
    "patients_final.head(200)"
   ]
  },
  {
   "cell_type": "code",
   "execution_count": null,
   "id": "b5e75a54fc4af193",
   "metadata": {
    "ExecuteTime": {
     "end_time": "2025-01-06T09:25:09.016738Z",
     "start_time": "2025-01-06T09:25:06.005432Z"
    }
   },
   "outputs": [],
   "source": [
    "# selecting data\n",
    "sql_query = \"\"\"\n",
    "SELECT\n",
    "    subject_id,\n",
    "    hadm_id,\n",
    "    icd_code,\n",
    "    icd_version\n",
    "FROM procedures_icd\n",
    "\"\"\"\n",
    "\n",
    "\n",
    "procedures = ps.sqldf(sql_query, locals())"
   ]
  },
  {
   "cell_type": "code",
   "execution_count": null,
   "id": "be783ed4b7211161",
   "metadata": {
    "ExecuteTime": {
     "end_time": "2025-01-06T09:25:09.146532Z",
     "start_time": "2025-01-06T09:25:09.095141Z"
    }
   },
   "outputs": [],
   "source": [
    "# frequency of all icd codes across all admissions\n",
    "icd_counts = procedures.groupby(['icd_code', 'icd_version']).size().reset_index(name='count')\n",
    "icd_counts = icd_counts.sort_values(by='count', ascending=False)"
   ]
  },
  {
   "cell_type": "code",
   "execution_count": null,
   "id": "ad4282c47f2bee4b",
   "metadata": {
    "ExecuteTime": {
     "end_time": "2025-01-06T09:25:09.153388Z",
     "start_time": "2025-01-06T09:25:09.151560Z"
    }
   },
   "outputs": [],
   "source": [
    "# extracting most common 1k icd codes\n",
    "top_icd_codes = icd_counts.head(1000)\n",
    "top_icd_codes_list = top_icd_codes['icd_code'].tolist()"
   ]
  },
  {
   "cell_type": "code",
   "execution_count": null,
   "id": "d0e9b6f1c2474bb9",
   "metadata": {
    "ExecuteTime": {
     "end_time": "2025-01-06T09:25:30.898456Z",
     "start_time": "2025-01-06T09:25:09.195725Z"
    }
   },
   "outputs": [],
   "source": [
    "# binary matrix for top icd codes\n",
    "# each column shows if a icd code is present for a procedure\n",
    "icd_binary_matrix = pd.DataFrame({\n",
    "    f'icd_code_{code}': (procedures['icd_code'] == code).astype(int)\n",
    "    for code in top_icd_codes_list\n",
    "})\n",
    "\n",
    "# Concatenate binary columns to original data frame\n",
    "procedures = pd.concat([procedures, icd_binary_matrix], axis=1)"
   ]
  },
  {
   "cell_type": "code",
   "execution_count": null,
   "id": "a8c77ea44e0c1dcc",
   "metadata": {
    "ExecuteTime": {
     "end_time": "2025-01-06T09:25:33.485165Z",
     "start_time": "2025-01-06T09:25:30.913219Z"
    }
   },
   "outputs": [],
   "source": [
    "# Step 5: Aggregate binary icd codes by subject id.\n",
    "binary_icd_columns = [col for col in procedures.columns if col.startswith('icd_code_')]\n",
    "\n",
    "# A group by subject id\n",
    "aggregated_features = procedures.groupby('subject_id')[binary_icd_columns].sum().reset_index()\n",
    "\n",
    "# total icd code --> new feature\n",
    "aggregated_features['total_icd_codes'] = aggregated_features[binary_icd_columns].sum(axis=1)\n",
    "\n"
   ]
  },
  {
   "cell_type": "code",
   "execution_count": null,
   "id": "97e2041510102b14",
   "metadata": {
    "ExecuteTime": {
     "end_time": "2025-01-06T09:25:43.581130Z",
     "start_time": "2025-01-06T09:25:33.502842Z"
    }
   },
   "outputs": [],
   "source": [
    "# save final state\n",
    "final_icd_features = aggregated_features.copy()\n",
    "final_icd_features.to_csv('/Users/cc/Desktop/Work/Uni/Berner FH/DataSets/mimicCSV/mimic-iv-3.1/hosp/shortform/Look Up Tables/final_icd_procedures_features.csv', index=False)\n"
   ]
  },
  {
   "cell_type": "code",
   "execution_count": null,
   "id": "80208ff1dae882f1",
   "metadata": {
    "ExecuteTime": {
     "end_time": "2025-01-06T09:25:43.605512Z",
     "start_time": "2025-01-06T09:25:43.599688Z"
    }
   },
   "outputs": [],
   "source": [
    "final_icd_features.head(200)"
   ]
  },
  {
   "cell_type": "code",
   "execution_count": null,
   "id": "193149f60a3998ca",
   "metadata": {
    "ExecuteTime": {
     "end_time": "2025-01-06T09:26:03.075638Z",
     "start_time": "2025-01-06T09:25:43.670679Z"
    }
   },
   "outputs": [],
   "source": [
    "# extract all relevant features\n",
    "sql_query = \"\"\"\n",
    "SELECT\n",
    "    subject_id,\n",
    "    hadm_id,\n",
    "    icd_code,\n",
    "    icd_version\n",
    "FROM diagnoses_icd\n",
    "\"\"\"\n",
    "diagnoses = ps.sqldf(sql_query, locals())"
   ]
  },
  {
   "cell_type": "code",
   "execution_count": null,
   "id": "8f0eec6cf66ebf43",
   "metadata": {
    "ExecuteTime": {
     "end_time": "2025-01-06T09:26:03.185328Z",
     "start_time": "2025-01-06T09:26:03.181903Z"
    }
   },
   "outputs": [],
   "source": [
    "diagnoses.head(200)"
   ]
  },
  {
   "cell_type": "code",
   "execution_count": null,
   "id": "f915149fd46624c8",
   "metadata": {
    "ExecuteTime": {
     "end_time": "2025-01-06T09:26:03.468500Z",
     "start_time": "2025-01-06T09:26:03.190522Z"
    }
   },
   "outputs": [],
   "source": [
    "# frequency of all icd codes across dataset\n",
    "icd_counts = diagnoses.groupby(['icd_code', 'icd_version']).size().reset_index(name='count')\n",
    "icd_counts = icd_counts.sort_values(by='count', ascending=False)\n"
   ]
  },
  {
   "cell_type": "code",
   "execution_count": null,
   "id": "1f706db43a20364",
   "metadata": {
    "ExecuteTime": {
     "end_time": "2025-01-06T09:26:03.474707Z",
     "start_time": "2025-01-06T09:26:03.472680Z"
    }
   },
   "outputs": [],
   "source": [
    "# top most 1k icd codes\n",
    "top_icd_codes = icd_counts.head(1000)\n",
    "# transforming into list\n",
    "top_icd_codes_list = top_icd_codes['icd_code'].tolist()\n"
   ]
  },
  {
   "cell_type": "code",
   "execution_count": null,
   "id": "98fb6467f023c013",
   "metadata": {
    "ExecuteTime": {
     "end_time": "2025-01-06T09:28:59.775957Z",
     "start_time": "2025-01-06T09:26:03.490008Z"
    }
   },
   "outputs": [],
   "source": [
    "# binary matrix for features\n",
    "icd_binary_matrix = pd.DataFrame({\n",
    "    f'icd_code_{code}': (diagnoses['icd_code'] == code).astype(int)\n",
    "    for code in top_icd_codes_list\n",
    "})"
   ]
  },
  {
   "cell_type": "code",
   "execution_count": null,
   "id": "247b57d418a2793a",
   "metadata": {
    "ExecuteTime": {
     "end_time": "2025-01-06T09:29:14.149745Z",
     "start_time": "2025-01-06T09:28:59.836144Z"
    }
   },
   "outputs": [],
   "source": [
    "# concatenate binary columns\n",
    "diagnoses = pd.concat([diagnoses, icd_binary_matrix], axis=1)\n"
   ]
  },
  {
   "cell_type": "code",
   "execution_count": null,
   "id": "c347908475b15016",
   "metadata": {
    "ExecuteTime": {
     "end_time": "2025-01-06T09:29:33.751630Z",
     "start_time": "2025-01-06T09:29:14.192345Z"
    }
   },
   "outputs": [],
   "source": [
    "\n",
    "# aggregate features by subject_id\n",
    "binary_icd_columns = [col for col in diagnoses.columns if col.startswith('icd_code_')]\n",
    "# group by subject id\n",
    "aggregated_features = diagnoses.groupby('subject_id')[binary_icd_columns].sum().reset_index()\n",
    "# new feature --> total icd codes\n",
    "aggregated_features['total_icd_codes'] = aggregated_features[binary_icd_columns].sum(axis=1)\n"
   ]
  },
  {
   "cell_type": "markdown",
   "id": "49b6d9c3bf4828b3",
   "metadata": {},
   "source": [
    "save final processed data"
   ]
  },
  {
   "cell_type": "code",
   "execution_count": null,
   "id": "cd8d509422f22877",
   "metadata": {
    "ExecuteTime": {
     "end_time": "2025-01-06T09:29:49.323353Z",
     "start_time": "2025-01-06T09:29:33.766097Z"
    }
   },
   "outputs": [],
   "source": [
    "# save final state\n",
    "final_icd_diagnoses_features = aggregated_features.copy()\n",
    "final_icd_diagnoses_features.to_csv('/Users/cc/Desktop/Work/Uni/Berner FH/DataSets/mimicCSV/mimic-iv-3.1/hosp/shortform/Look Up Tables/final_icd_diagnoses_features.csv', index=False)\n",
    "\n",
    "\n",
    "final_icd_diagnoses_features.head(200)"
   ]
  },
  {
   "cell_type": "code",
   "execution_count": null,
   "id": "313f037f83adab2c",
   "metadata": {
    "ExecuteTime": {
     "end_time": "2025-01-06T09:29:49.397033Z",
     "start_time": "2025-01-06T09:29:49.394183Z"
    }
   },
   "outputs": [],
   "source": [
    "'''sql_query = \"\"\"\n",
    "SELECT\n",
    "    COUNT(drg_type)\n",
    "FROM drgcodes\n",
    "    WHERE drg_type = 'APR'\n",
    "\n",
    "\"\"\"\n",
    "\n",
    "print(ps.sqldf(sql_query, locals()))'''"
   ]
  },
  {
   "cell_type": "code",
   "execution_count": null,
   "id": "83a72330486fdeb9",
   "metadata": {
    "ExecuteTime": {
     "end_time": "2025-01-06T09:29:49.404407Z",
     "start_time": "2025-01-06T09:29:49.402093Z"
    }
   },
   "outputs": [],
   "source": [
    "'''sql_query = \"\"\"\n",
    "SELECT\n",
    "    drg_code\n",
    "FROM drgcodes\n",
    "\n",
    "\n",
    "\"\"\"\n",
    "\n",
    "print(ps.sqldf(sql_query, locals()))'''"
   ]
  },
  {
   "cell_type": "code",
   "execution_count": null,
   "id": "c95753c00c0b80e2",
   "metadata": {
    "ExecuteTime": {
     "end_time": "2025-01-06T09:29:49.525255Z",
     "start_time": "2025-01-06T09:29:49.523028Z"
    }
   },
   "outputs": [],
   "source": [
    "'''sql_query = \"\"\"\n",
    "SELECT\n",
    "    drg_code,\n",
    "    COUNT(*) AS count\n",
    "FROM drgcodes\n",
    "GROUP BY drg_code\n",
    "ORDER BY count DESC\n",
    "LIMIT 100;\n",
    "\"\"\"\n",
    "\n",
    "print(ps.sqldf(sql_query, locals()))'''"
   ]
  },
  {
   "cell_type": "markdown",
   "id": "5375eeab5f68d121",
   "metadata": {},
   "source": [
    " Loading Data  (sql)"
   ]
  },
  {
   "cell_type": "code",
   "execution_count": null,
   "id": "dc82acdae8dcb9dc",
   "metadata": {
    "ExecuteTime": {
     "end_time": "2025-01-06T09:29:52.452111Z",
     "start_time": "2025-01-06T09:29:49.539549Z"
    }
   },
   "outputs": [],
   "source": [
    "sql_query = \"\"\"\n",
    "SELECT\n",
    "    subject_id,\n",
    "    hadm_id,\n",
    "    drg_code,\n",
    "    drg_severity,\n",
    "    drg_mortality\n",
    "FROM drgcodes\n",
    "\"\"\"\n",
    "\n",
    "# Load data\n",
    "drgcodes = ps.sqldf(sql_query, locals())"
   ]
  },
  {
   "cell_type": "code",
   "execution_count": null,
   "id": "8156087e522e01c2",
   "metadata": {
    "ExecuteTime": {
     "end_time": "2025-01-06T09:29:52.464360Z",
     "start_time": "2025-01-06T09:29:52.455376Z"
    }
   },
   "outputs": [],
   "source": [
    "# Calculate frequency of drg codes across data set\n",
    "drg_code_counts = drgcodes.groupby('drg_code').size().reset_index(name='count')\n",
    "drg_code_counts = drg_code_counts.sort_values(by='count', ascending=False)\n",
    "\n",
    "# Select top most hundred drg codes\n",
    "top_drg_codes = drg_code_counts.head(100)\n",
    "top_drg_codes_list = top_drg_codes['drg_code'].tolist()\n",
    "print(top_drg_codes_list)"
   ]
  },
  {
   "cell_type": "code",
   "execution_count": null,
   "id": "324580f9f9fa1712",
   "metadata": {
    "ExecuteTime": {
     "end_time": "2025-01-06T09:29:52.679904Z",
     "start_time": "2025-01-06T09:29:52.487879Z"
    }
   },
   "outputs": [],
   "source": [
    "# binary  column for drg codes 1 present for subject, 0 absent\n",
    "drg_binary_matrix = pd.DataFrame({\n",
    "    f'drg_code_{code}': (drgcodes['drg_code'] == code).astype(int)\n",
    "    for code in top_drg_codes_list\n",
    "})\n",
    "\n",
    "# concatenate binary features.\n",
    "drgcodes = pd.concat([drgcodes, drg_binary_matrix], axis=1) # adding it to the original dataframe"
   ]
  },
  {
   "cell_type": "code",
   "execution_count": null,
   "id": "531e783ce9db0ec6",
   "metadata": {
    "ExecuteTime": {
     "end_time": "2025-01-06T09:30:12.340119Z",
     "start_time": "2025-01-06T09:29:52.706854Z"
    }
   },
   "outputs": [],
   "source": [
    "# binary drg column\n",
    "binary_drg_columns = [col for col in drgcodes.columns if col.startswith('drg_code_')]\n",
    "\n",
    "# Aggregate binary column and sum to get total count\n",
    "aggregated_drg_features = drgcodes.groupby('subject_id')[binary_drg_columns].sum().reset_index()\n",
    "\n",
    "\n",
    "# mean, maximum, and mode for  severity and mortality risk levels\n",
    "aggregated_drg_features['mean_drg_severity'] = drgcodes.groupby('subject_id')['drg_severity'].mean().reset_index(drop=True)\n",
    "\n",
    "aggregated_drg_features['max_drg_severity'] = drgcodes.groupby('subject_id')['drg_severity'].max().reset_index(drop=True)\n",
    "\n",
    "aggregated_drg_features['mode_drg_severity'] = drgcodes.groupby('subject_id')['drg_severity'].agg(lambda x: x.mode().iloc[0] if not x.mode().empty else None).reset_index(drop=True)\n",
    "\n",
    "aggregated_drg_features['mean_drg_mortality'] = drgcodes.groupby('subject_id')['drg_mortality'].mean().reset_index(drop=True)\n",
    "\n",
    "aggregated_drg_features['max_drg_mortality'] = drgcodes.groupby('subject_id')['drg_mortality'].max().reset_index(drop=True)\n",
    "\n",
    "aggregated_drg_features['mode_drg_mortality'] = drgcodes.groupby('subject_id')['drg_mortality'].agg(lambda x: x.mode().iloc[0] if not x.mode().empty else None).reset_index(drop=True)\n"
   ]
  },
  {
   "cell_type": "code",
   "execution_count": null,
   "id": "60a1c0538268a243",
   "metadata": {
    "ExecuteTime": {
     "end_time": "2025-01-06T09:30:13.892415Z",
     "start_time": "2025-01-06T09:30:12.364656Z"
    }
   },
   "outputs": [],
   "source": [
    "# Save final drg codes\n",
    "final_drg_features = aggregated_drg_features.copy()\n",
    "final_drg_features.to_csv('/Users/cc/Desktop/Work/Uni/Berner FH/DataSets/mimicCSV/mimic-iv-3.1/hosp/shortform/Look Up Tables/final_drg_features.csv', index=False)\n",
    "\n",
    "\n",
    "final_drg_features.head(200)\n"
   ]
  },
  {
   "cell_type": "code",
   "execution_count": null,
   "id": "5df4070ebbc01543",
   "metadata": {
    "ExecuteTime": {
     "end_time": "2025-01-06T09:30:20.103087Z",
     "start_time": "2025-01-06T09:30:13.938272Z"
    }
   },
   "outputs": [],
   "source": [
    "path = '/Users/cc/Desktop/Work/Uni/Berner FH/DataSets/mimicCSV/mimic-iv-3.1/hosp/shortform/Look Up Tables/'\n",
    "\n",
    "# loading data\n",
    "final_patients_features = pd.read_csv(f\"{path}final_patients_features.csv\")\n",
    "final_admission_features = pd.read_csv(f\"{path}final_admission_features.csv\")\n",
    "final_icd_procedures_features = pd.read_csv(f\"{path}final_icd_procedures_features.csv\")\n",
    "final_icd_diagnoses_features = pd.read_csv(f\"{path}final_icd_diagnoses_features.csv\")\n",
    "final_drg_features = pd.read_csv(f\"{path}final_drg_features.csv\")\n"
   ]
  },
  {
   "cell_type": "code",
   "execution_count": null,
   "id": "691d1235fb2fd40b",
   "metadata": {
    "ExecuteTime": {
     "end_time": "2025-01-06T09:31:59.026541Z",
     "start_time": "2025-01-06T09:30:20.134752Z"
    }
   },
   "outputs": [],
   "source": [
    "# inner join to get subject ids of patients that are in all tables\n",
    "sql_query = \"\"\"\n",
    "SELECT\n",
    "    p.subject_id\n",
    "FROM\n",
    "    final_patients_features p\n",
    "INNER JOIN\n",
    "    final_admission_features a\n",
    "ON\n",
    "    p.subject_id = a.subject_id\n",
    "INNER JOIN\n",
    "    final_icd_procedures_features c\n",
    "ON\n",
    "    p.subject_id = c.subject_id\n",
    "INNER JOIN\n",
    "    final_icd_diagnoses_features d\n",
    "ON\n",
    "    p.subject_id = d.subject_id\n",
    "INNER JOIN\n",
    "    final_drg_features r\n",
    "ON\n",
    "    p.subject_id = r.subject_id\n",
    "\"\"\"\n",
    "\n",
    "subject_ids_in_all_tables = ps.sqldf(sql_query, locals())\n"
   ]
  },
  {
   "cell_type": "code",
   "execution_count": null,
   "id": "be76b63f30896315",
   "metadata": {
    "ExecuteTime": {
     "end_time": "2025-01-06T09:31:59.091317Z",
     "start_time": "2025-01-06T09:31:59.057486Z"
    }
   },
   "outputs": [],
   "source": [
    "# saving list of all patients\n",
    "subject_ids_in_all_tables.to_csv(f\"{path}final_subject_ids_in_all_tables.csv\", index=False)"
   ]
  },
  {
   "cell_type": "code",
   "execution_count": null,
   "id": "ba24fc091d25e378",
   "metadata": {
    "ExecuteTime": {
     "end_time": "2025-01-06T09:31:59.303797Z",
     "start_time": "2025-01-06T09:31:59.095445Z"
    }
   },
   "outputs": [],
   "source": [
    "# num of patients present in all tables\n",
    "sql_query = \"\"\"\n",
    "SELECT\n",
    "Count(DISTINCT subject_id)\n",
    "FROM\n",
    "subject_ids_in_all_tables \"\"\"\n",
    "\n",
    "print(ps.sqldf(sql_query, locals()))"
   ]
  },
  {
   "cell_type": "code",
   "execution_count": null,
   "id": "d1520ccd99ccae98",
   "metadata": {
    "ExecuteTime": {
     "end_time": "2025-01-06T09:31:59.474214Z",
     "start_time": "2025-01-06T09:31:59.357328Z"
    }
   },
   "outputs": [],
   "source": [
    "# total num of patients in all tables\n",
    "total_patients = len(final_patients_features)\n",
    "patients_in_all_tables = len(subject_ids_in_all_tables)\n",
    "\n",
    "# percentage patients in all tables vs missing in any table\n",
    "present_percentage = (patients_in_all_tables / total_patients) * 100\n",
    "missing_percentage = 100 - present_percentage\n",
    "\n",
    "# visualize data\n",
    "summary_data = pd.DataFrame({\n",
    "    \"Category\": [\"Patients in All Tables\", \"Missing from Any Table\"],\n",
    "    \"Count\": [patients_in_all_tables, total_patients - patients_in_all_tables],\n",
    "    \"Percentage\": [present_percentage, missing_percentage]\n",
    "})\n",
    "\n",
    "# Ploting\n",
    "plt.figure(figsize=(8, 5))\n",
    "plt.bar(summary_data[\"Category\"], summary_data[\"Percentage\"], color=[\"blue\", \"orange\"], alpha=0.7)\n",
    "\n",
    "# percentage labels\n",
    "for i, percentage in enumerate(summary_data[\"Percentage\"]):\n",
    "    plt.text(i, percentage + 2, f\"{percentage:.1f}%\", ha='center', va='bottom', fontsize=12)\n",
    "\n",
    "# title and label\n",
    "plt.title(\"Patients Present in All Tables vs Missing\", fontsize=14)\n",
    "plt.ylabel(\"Percentage\", fontsize=12)\n",
    "plt.grid(axis='y', linestyle='--', alpha=0.7)\n",
    "\n",
    "# Display\n",
    "plt.tight_layout()\n",
    "plt.show()"
   ]
  },
  {
   "cell_type": "code",
   "execution_count": null,
   "id": "a64368e46b9879be",
   "metadata": {
    "ExecuteTime": {
     "end_time": "2025-01-06T09:31:59.480634Z",
     "start_time": "2025-01-06T09:31:59.478756Z"
    }
   },
   "outputs": [],
   "source": [
    "present_percentage = (patients_in_all_tables / total_patients) * 100\n",
    "missing_percentage = 100 - present_percentage\n",
    "\n",
    "# Print  percentages\n",
    "print(f\"Present Percentage: {present_percentage:.2f}%\")\n",
    "print(f\"Missing Percentage: {missing_percentage:.2f}%\")"
   ]
  },
  {
   "cell_type": "code",
   "execution_count": null,
   "id": "3b08183d85483d9",
   "metadata": {
    "ExecuteTime": {
     "end_time": "2025-01-06T09:32:04.911267Z",
     "start_time": "2025-01-06T09:31:59.510713Z"
    }
   },
   "outputs": [],
   "source": [
    "path = '/Users/cc/Desktop/Work/Uni/Berner FH/DataSets/mimicCSV/mimic-iv-3.1/hosp/shortform/Look Up Tables/'\n",
    "\n",
    "# Load data\n",
    "final_patients_features = pd.read_csv(f\"{path}final_patients_features.csv\")\n",
    "final_admission_features = pd.read_csv(f\"{path}final_admission_features.csv\")\n",
    "final_icd_procedures_features = pd.read_csv(f\"{path}final_icd_procedures_features.csv\")\n",
    "final_icd_diagnoses_features = pd.read_csv(f\"{path}final_icd_diagnoses_features.csv\")\n",
    "final_drg_features = pd.read_csv(f\"{path}final_drg_features.csv\")"
   ]
  },
  {
   "cell_type": "code",
   "execution_count": null,
   "id": "cb022d9704a4012d",
   "metadata": {
    "ExecuteTime": {
     "end_time": "2025-01-06T09:34:20.432384Z",
     "start_time": "2025-01-06T09:34:05.639030Z"
    }
   },
   "outputs": [],
   "source": [
    "# saving output\n",
    "subject_with_all_the_data_expect_procedures.to_csv(f\"{path}allpatients_expect_procedures.csv\", index=False)"
   ]
  },
  {
   "cell_type": "code",
   "execution_count": null,
   "id": "d14d6be950288b50",
   "metadata": {
    "ExecuteTime": {
     "end_time": "2025-01-06T09:35:13.759623Z",
     "start_time": "2025-01-06T09:34:20.551743Z"
    }
   },
   "outputs": [],
   "source": [
    "path = '/Users/cc/Desktop/Work/Uni/Berner FH/DataSets/mimicCSV/mimic-iv-3.1/hosp/shortform/Look Up Tables/'\n",
    "# load data\n",
    "subject_with_all_the_data_expect_procedures = pd.read_csv(f\"{path}allpatients_expect_procedures.csv\")\n",
    "# count subject ids with missing entries --> 5311 missing\n",
    "sql_query = \"\"\"\n",
    "SELECT\n",
    "    COUNT(subject_id) AS missing_count\n",
    "FROM\n",
    "    subject_with_all_the_data_expect_procedures\n",
    "WHERE\n",
    "    subject_id IS NULL OR\n",
    "    gender_encoded IS NULL OR\n",
    "    age_bucket IS NULL OR\n",
    "    mortality IS NULL OR\n",
    "    mean_los IS NULL OR\n",
    "    total_los IS NULL OR\n",
    "    max_los IS NULL OR\n",
    "    num_admissions IS NULL OR\n",
    "    most_common_admission_type IS NULL OR\n",
    "    most_common_admission_location IS NULL OR\n",
    "    most_common_insurance_type IS NULL OR\n",
    "    mean_drg_severity IS NULL OR\n",
    "    max_drg_severity IS NULL OR\n",
    "    mode_drg_severity IS NULL OR\n",
    "    mean_drg_mortality IS NULL OR\n",
    "    mode_drg_mortality IS NULL OR\n",
    "    totalDiagnosesIcdCodes IS NULL\n",
    "\"\"\"\n",
    "print(ps.sqldf(sql_query, locals()))"
   ]
  },
  {
   "cell_type": "code",
   "execution_count": null,
   "id": "a73f8213a4f9aa07",
   "metadata": {
    "ExecuteTime": {
     "end_time": "2025-01-06T09:36:34.394755Z",
     "start_time": "2025-01-06T09:35:13.797613Z"
    }
   },
   "outputs": [],
   "source": [
    "# filtering out rows with null values\n",
    "sql_query = \"\"\"\n",
    "SELECT\n",
    "    *\n",
    "FROM\n",
    "    subject_with_all_the_data_expect_procedures\n",
    "WHERE\n",
    "    subject_id IS NOT NULL AND\n",
    "    gender_encoded IS NOT NULL AND\n",
    "    age_bucket IS NOT NULL AND\n",
    "    mortality IS NOT NULL AND\n",
    "    mean_los IS NOT NULL AND\n",
    "    total_los IS NOT NULL AND\n",
    "    max_los IS NOT NULL AND\n",
    "    num_admissions IS NOT NULL AND\n",
    "    most_common_admission_type IS NOT NULL AND\n",
    "    most_common_admission_location IS NOT NULL AND\n",
    "    most_common_insurance_type IS NOT NULL AND\n",
    "    mean_drg_severity IS NOT NULL AND\n",
    "    max_drg_severity IS NOT NULL AND\n",
    "    mode_drg_severity IS NOT NULL AND\n",
    "    mean_drg_mortality IS NOT NULL AND\n",
    "    mode_drg_mortality IS NOT NULL AND\n",
    "    totalDiagnosesIcdCodes IS NOT NULL\n",
    "\"\"\"\n",
    "\n",
    "\n",
    "filtered_data = ps.sqldf(sql_query, locals())\n",
    "\n",
    "# Overwrite original df with  filtered data (rows with no NULL values)\n",
    "\n",
    "subject_with_all_the_data_expect_procedures.head(100)"
   ]
  },
  {
   "cell_type": "code",
   "execution_count": null,
   "id": "6d5b74c6dd9fa281",
   "metadata": {
    "ExecuteTime": {
     "end_time": "2025-01-06T09:36:48.774422Z",
     "start_time": "2025-01-06T09:36:34.454179Z"
    }
   },
   "outputs": [],
   "source": [
    "# save filtered data\n",
    "path = '/Users/cc/Desktop/Work/Uni/Berner FH/DataSets/mimicCSV/mimic-iv-3.1/hosp/shortform/Look Up Tables/'\n",
    "filtered_data.to_csv(f\"{path}cleaned_allpatients_expect_procedures.csv\", index=False)\n"
   ]
  },
  {
   "cell_type": "code",
   "execution_count": null,
   "id": "1e2b9055cf6b55d6",
   "metadata": {
    "ExecuteTime": {
     "end_time": "2025-01-06T09:37:38.642911Z",
     "start_time": "2025-01-06T09:36:48.895564Z"
    }
   },
   "outputs": [],
   "source": [
    "sql_query = \"\"\"\n",
    "SELECT\n",
    "COUNT(mortality)\n",
    "FROM\n",
    "   subject_with_all_the_data_expect_procedures\n",
    "   WhERE mortality = 0\n",
    "    \"\"\"\n",
    "print(ps.sqldf(sql_query, locals()))"
   ]
  },
  {
   "cell_type": "code",
   "execution_count": null,
   "id": "bd1e2947c27bb7b",
   "metadata": {
    "ExecuteTime": {
     "end_time": "2025-01-06T09:38:28.439957Z",
     "start_time": "2025-01-06T09:37:38.707482Z"
    }
   },
   "outputs": [],
   "source": [
    "sql_query = \"\"\"\n",
    "SELECT\n",
    "COUNT(mortality)\n",
    "FROM\n",
    "   subject_with_all_the_data_expect_procedures\n",
    "   WhERE mortality = 1\n",
    "    \"\"\"\n",
    "print(ps.sqldf(sql_query, locals()))"
   ]
  },
  {
   "cell_type": "code",
   "execution_count": null,
   "id": "cb6ff944f7101c59",
   "metadata": {
    "ExecuteTime": {
     "end_time": "2025-01-06T09:39:23.533409Z",
     "start_time": "2025-01-06T09:38:28.476841Z"
    }
   },
   "outputs": [],
   "source": [
    "# get patients that died\n",
    "sql_query = \"\"\"\n",
    "SELECT\n",
    "*\n",
    "FROM\n",
    "   subject_with_all_the_data_expect_procedures\n",
    "   WhERE mortality = 1\n",
    "    \"\"\"\n",
    "mort1 = ps.sqldf(sql_query, locals())\n"
   ]
  },
  {
   "cell_type": "code",
   "execution_count": null,
   "id": "9e4ac6be418de072",
   "metadata": {
    "ExecuteTime": {
     "end_time": "2025-01-06T09:40:43.001063Z",
     "start_time": "2025-01-06T09:39:23.565008Z"
    }
   },
   "outputs": [],
   "source": [
    "# Select patients that survived\n",
    "sql_query = \"\"\"\n",
    "SELECT\n",
    "*\n",
    "FROM\n",
    "   subject_with_all_the_data_expect_procedures\n",
    "   WhERE mortality = 0\n",
    "    \"\"\"\n",
    "mort0 = ps.sqldf(sql_query, locals())\n"
   ]
  },
  {
   "cell_type": "code",
   "execution_count": null,
   "id": "c70e4b290c6dcc5e",
   "metadata": {
    "ExecuteTime": {
     "end_time": "2025-01-06T09:40:43.209635Z",
     "start_time": "2025-01-06T09:40:43.070917Z"
    }
   },
   "outputs": [],
   "source": [
    "# Randomly sample majority class\n",
    "# hardcoded value here but with length n --> dynamic\n",
    "mort0_sampled = mort0.sample(n=35134, random_state=31)"
   ]
  },
  {
   "cell_type": "code",
   "execution_count": null,
   "id": "d8091b7358be241a",
   "metadata": {
    "ExecuteTime": {
     "end_time": "2025-01-06T09:40:43.566325Z",
     "start_time": "2025-01-06T09:40:43.212262Z"
    }
   },
   "outputs": [],
   "source": [
    "# Combine datasets to get a balanced df\n",
    "balanced_dataset = pd.concat([mort1, mort0_sampled])\n",
    "\n",
    "# shuffle dataset --> in order so i dont have to do it before fitting...\n",
    "balanced_dataset = balanced_dataset.sample(frac=1, random_state=55).reset_index(drop=True)"
   ]
  },
  {
   "cell_type": "code",
   "execution_count": null,
   "id": "c7e4c098063651ed",
   "metadata": {
    "ExecuteTime": {
     "end_time": "2025-01-06T09:40:49.987208Z",
     "start_time": "2025-01-06T09:40:43.601277Z"
    }
   },
   "outputs": [],
   "source": [
    "path = '/Users/cc/Desktop/Work/Uni/Berner FH/DataSets/mimicCSV/mimic-iv-3.1/hosp/shortform/Look Up Tables/'\n",
    "balanced_dataset.to_csv(f\"{path}cleaned_and_balanced_allpatients_expect_procedures.csv\", index=False)"
   ]
  },
  {
   "cell_type": "code",
   "execution_count": null,
   "id": "e1c01646b038d1d3",
   "metadata": {
    "ExecuteTime": {
     "end_time": "2025-01-06T09:40:51.415373Z",
     "start_time": "2025-01-06T09:40:50.023340Z"
    }
   },
   "outputs": [],
   "source": [
    "path = '/Users/cc/Desktop/Work/Uni/Berner FH/DataSets/mimicCSV/mimic-iv-3.1/hosp/shortform/Look Up Tables/'\n",
    "file_name = \"cleaned_and_balanced_allpatients_expect_procedures.csv\"\n",
    "dataset = pd.read_csv(f\"{path}{file_name}\")\n",
    "print(dataset.info())"
   ]
  },
  {
   "cell_type": "code",
   "execution_count": null,
   "id": "608c16c3213832bd",
   "metadata": {
    "ExecuteTime": {
     "end_time": "2025-01-06T09:40:51.824177Z",
     "start_time": "2025-01-06T09:40:51.454311Z"
    }
   },
   "outputs": [],
   "source": [
    "from sklearn.preprocessing import StandardScaler\n",
    "\n",
    "# List of Columns to scale\n",
    "columns_to_scale = [\n",
    "    \"mean_los\", \"total_los\", \"max_los\",\n",
    "    \"num_admissions\",\n",
    "    \"mean_drg_severity\", \"max_drg_severity\", \"mode_drg_severity\",\n",
    "    \"mean_drg_mortality\", \"max_drg_mortality\", \"mode_drg_mortality\",\n",
    "    \"totalDiagnosesIcdCodes\"\n",
    "]\n",
    "\n",
    "\n",
    "# standard scaler\n",
    "scaler = StandardScaler()\n",
    "\n",
    "# scaling of the columns that are listed above\n",
    "dataset[columns_to_scale] = scaler.fit_transform(dataset[columns_to_scale])\n",
    "\n",
    "# verify that it worked correctly  --> \"visual - inspection\"\n",
    "print(dataset[columns_to_scale].head())"
   ]
  },
  {
   "cell_type": "code",
   "execution_count": null,
   "id": "cb2737ea74d647ee",
   "metadata": {
    "ExecuteTime": {
     "end_time": "2025-01-06T09:40:58.433328Z",
     "start_time": "2025-01-06T09:40:51.973922Z"
    }
   },
   "outputs": [],
   "source": [
    "path = '/Users/cc/Desktop/Work/Uni/Berner FH/DataSets/mimicCSV/mimic-iv-3.1/hosp/shortform/Look Up Tables/'\n",
    "# Save the dataset\n",
    "scaled_file_name = \"scaled_allpatients.csv\"\n",
    "dataset.to_csv(f\"{path}{scaled_file_name}\", index=False)"
   ]
  },
  {
   "cell_type": "code",
   "execution_count": null,
   "id": "a6d69de255a958f9",
   "metadata": {
    "ExecuteTime": {
     "end_time": "2025-01-06T09:40:58.567881Z",
     "start_time": "2025-01-06T09:40:58.552188Z"
    }
   },
   "outputs": [],
   "source": [
    "# look above to see which columns are selected\n",
    "# safty check to see if i messed up\n",
    "# more robust inspection --> mean should be close to 0 and standard deviation close to 1 --> all values have that so it looks good (:\n",
    "print(dataset[columns_to_scale].mean())\n",
    "print(dataset[columns_to_scale].std())"
   ]
  }
 ],
 "metadata": {
  "kernelspec": {
   "display_name": "Python 3",
   "language": "python",
   "name": "python3"
  },
  "language_info": {
   "codemirror_mode": {
    "name": "ipython",
    "version": 2
   },
   "file_extension": ".py",
   "mimetype": "text/x-python",
   "name": "python",
   "nbconvert_exporter": "python",
   "pygments_lexer": "ipython2",
   "version": "2.7.6"
  }
 },
 "nbformat": 4,
 "nbformat_minor": 5
}
