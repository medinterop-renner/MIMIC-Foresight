{
 "cells": [
  {
   "cell_type": "markdown",
   "id": "5a7b939a105823d5",
   "metadata": {},
   "source": [
    "### importing libraries"
   ]
  },
  {
   "cell_type": "code",
   "execution_count": null,
   "id": "initial_id",
   "metadata": {
    "ExecuteTime": {
     "end_time": "2025-01-06T12:13:14.502839Z",
     "start_time": "2025-01-06T12:13:09.786011Z"
    },
    "collapsed": true
   },
   "outputs": [],
   "source": [
    "import pandas as pd\n",
    "import pandasql as ps\n",
    "import tensorflow as tf\n",
    "from sklearn.model_selection import train_test_split\n",
    "from transformers import DistilBertTokenizer, TFDistilBertForSequenceClassification\n",
    "from tensorflow.keras.optimizers import Adam\n",
    "from tensorflow.keras.losses import SparseCategoricalCrossentropy\n",
    "import matplotlib.pyplot as plt\n",
    "import nltk\n",
    "from nltk.corpus import stopwords\n",
    "from nltk.tokenize import word_tokenize\n",
    "from nltk.stem import WordNetLemmatizer\n",
    "import numpy as np\n"
   ]
  },
  {
   "cell_type": "code",
   "execution_count": null,
   "id": "adbd37c6989d5a40",
   "metadata": {
    "ExecuteTime": {
     "end_time": "2025-01-06T12:13:32.534193Z",
     "start_time": "2025-01-06T12:13:27.107198Z"
    }
   },
   "outputs": [],
   "source": [
    "path = '/Users/cc/Desktop/Work/Uni/Berner FH/DataSets/mimicCSV/mimic-iv-3.1/hosp/shortform/preprocessed_for_bert.csv'\n",
    "balanced_df = pd.read_csv(path)"
   ]
  },
  {
   "cell_type": "code",
   "execution_count": null,
   "id": "751a48ab3abd48f3",
   "metadata": {
    "ExecuteTime": {
     "end_time": "2025-01-06T12:13:33.301825Z",
     "start_time": "2025-01-06T12:13:33.295300Z"
    }
   },
   "outputs": [],
   "source": [
    "# Shuffle the DataFrame and select 2000 random patients\n",
    "shuffled_df = balanced_df.sample(frac=1, random_state=4322)  # Shuffle the DataFrame\n",
    "selected_df = shuffled_df.sample(n=10000, random_state=49)  # Select 2000 random rows\n",
    "balanced_df = selected_df"
   ]
  },
  {
   "cell_type": "code",
   "execution_count": null,
   "id": "e982a404030d4588",
   "metadata": {
    "ExecuteTime": {
     "end_time": "2025-01-06T12:13:35.411147Z",
     "start_time": "2025-01-06T12:13:35.407129Z"
    }
   },
   "outputs": [],
   "source": [
    "balanced_df.shape"
   ]
  },
  {
   "cell_type": "code",
   "execution_count": null,
   "id": "1b39501c2631afbd",
   "metadata": {
    "ExecuteTime": {
     "end_time": "2025-01-06T12:13:38.435095Z",
     "start_time": "2025-01-06T12:13:38.428592Z"
    }
   },
   "outputs": [],
   "source": [
    "data_texts = balanced_df['text'].tolist()\n",
    "data_labels = balanced_df['encoded_text'].tolist()\n",
    "\n",
    "train_texts, val_texts, train_labels, val_labels = train_test_split(\n",
    "    data_texts, data_labels, test_size=0.2, random_state=124\n",
    ")\n",
    "train_texts, test_texts, train_labels, test_labels = train_test_split(\n",
    "    train_texts, train_labels, test_size=0.01, random_state=124\n",
    ")"
   ]
  },
  {
   "cell_type": "markdown",
   "id": "682c6bfd41e84d92",
   "metadata": {},
   "source": [
    "Tokenization"
   ]
  },
  {
   "cell_type": "code",
   "execution_count": null,
   "id": "8a1a2fc641f90f72",
   "metadata": {
    "ExecuteTime": {
     "end_time": "2025-01-06T12:13:40.934138Z",
     "start_time": "2025-01-06T12:13:40.722883Z"
    }
   },
   "outputs": [],
   "source": [
    "tokenizer = DistilBertTokenizer.from_pretrained('distilbert-base-uncased')\n"
   ]
  },
  {
   "cell_type": "code",
   "execution_count": null,
   "id": "b62e4bc07628bb18",
   "metadata": {
    "ExecuteTime": {
     "end_time": "2025-01-06T12:20:32.802699Z",
     "start_time": "2025-01-06T12:13:42.095390Z"
    }
   },
   "outputs": [],
   "source": [
    "train_encodings = tokenizer(train_texts, truncation=True, padding=True, max_length=512)\n",
    "val_encodings = tokenizer(val_texts, truncation=True, padding=True, max_length=512)\n",
    "test_encodings = tokenizer(test_texts, truncation=True, padding=True, max_length=512)\n",
    "\n"
   ]
  },
  {
   "cell_type": "markdown",
   "id": "5501b9d68fe9b1c1",
   "metadata": {},
   "source": [
    "### tensorflow dataset"
   ]
  },
  {
   "cell_type": "code",
   "execution_count": null,
   "id": "2e70f29c9b9f86fd",
   "metadata": {
    "ExecuteTime": {
     "end_time": "2025-01-06T12:22:11.347858Z",
     "start_time": "2025-01-06T12:22:05.569877Z"
    }
   },
   "outputs": [],
   "source": [
    "batch_size = 16\n",
    "\n",
    "train_dataset = tf.data.Dataset.from_tensor_slices((\n",
    "    {'input_ids': train_encodings['input_ids'], 'attention_mask': train_encodings['attention_mask']},\n",
    "    train_labels\n",
    ")).shuffle(len(train_texts)).batch(batch_size)\n",
    "\n",
    "val_dataset = tf.data.Dataset.from_tensor_slices((\n",
    "    {'input_ids': val_encodings['input_ids'], 'attention_mask': val_encodings['attention_mask']},\n",
    "    val_labels\n",
    ")).batch(batch_size)\n",
    "\n",
    "test_dataset = tf.data.Dataset.from_tensor_slices((\n",
    "    {'input_ids': test_encodings['input_ids'], 'attention_mask': test_encodings['attention_mask']},\n",
    "    test_labels\n",
    ")).batch(batch_size)\n",
    "\n"
   ]
  },
  {
   "cell_type": "markdown",
   "id": "542ce55c4d1e2995",
   "metadata": {},
   "source": [
    "### model definition"
   ]
  },
  {
   "cell_type": "code",
   "execution_count": null,
   "id": "e69d6163ddef1706",
   "metadata": {
    "ExecuteTime": {
     "end_time": "2025-01-06T12:22:33.193948Z",
     "start_time": "2025-01-06T12:22:22.343811Z"
    }
   },
   "outputs": [],
   "source": [
    "# Load  model\n",
    "model = TFDistilBertForSequenceClassification.from_pretrained(\n",
    "    'distilbert-base-uncased',\n",
    "    num_labels=2  # Binary classification\n",
    ")"
   ]
  },
  {
   "cell_type": "code",
   "execution_count": null,
   "id": "d7dd93c37eb3acac",
   "metadata": {
    "ExecuteTime": {
     "end_time": "2025-01-06T12:22:36.740458Z",
     "start_time": "2025-01-06T12:22:36.733673Z"
    }
   },
   "outputs": [],
   "source": [
    "# compile\n",
    "optimizer = 'adam'\n",
    "loss = SparseCategoricalCrossentropy(from_logits=True)\n",
    "model.compile(optimizer=optimizer, loss=loss, metrics=['accuracy'])\n"
   ]
  },
  {
   "cell_type": "code",
   "execution_count": null,
   "id": "bbfaaa89b4977c7e",
   "metadata": {
    "ExecuteTime": {
     "end_time": "2025-01-06T15:53:17.709084Z",
     "start_time": "2025-01-06T12:22:38.612241Z"
    }
   },
   "outputs": [],
   "source": [
    "#fit it\n",
    "epochs = 7\n",
    "history = model.fit(\n",
    "    train_dataset,\n",
    "    validation_data=val_dataset,\n",
    "    epochs=epochs\n",
    ")\n"
   ]
  },
  {
   "cell_type": "markdown",
   "id": "f0f34496dbf602c",
   "metadata": {},
   "source": [
    "# eval and save"
   ]
  },
  {
   "cell_type": "code",
   "execution_count": null,
   "id": "6054eb51c0432768",
   "metadata": {
    "ExecuteTime": {
     "end_time": "2025-01-06T15:55:30.405964Z",
     "start_time": "2025-01-06T15:55:24.730564Z"
    }
   },
   "outputs": [],
   "source": [
    "# Eval on test set\n",
    "results = model.evaluate(test_dataset)\n",
    "print(f\"Test Accuracy: {results[1]:.2f}\")"
   ]
  },
  {
   "cell_type": "code",
   "execution_count": null,
   "id": "207e3bc56d9f0a77",
   "metadata": {
    "ExecuteTime": {
     "end_time": "2025-01-06T15:55:59.568606Z",
     "start_time": "2025-01-06T15:55:59.431474Z"
    }
   },
   "outputs": [],
   "source": [
    "# Save model\n",
    "model.save_pretrained('/Users/cc/Desktop/Work/Uni/Berner FH/DataSets/mimicCSV/mimic-iv-3.1/hosp/shortform/BERTFTModel')\n",
    "tokenizer.save_pretrained('/Users/cc/Desktop/Work/Uni/Berner FH/DataSets/mimicCSV/mimic-iv-3.1/hosp/shortform/BERTFTModel')\n"
   ]
  },
  {
   "cell_type": "markdown",
   "id": "e3f1a787682d4310",
   "metadata": {},
   "source": [
    "# visualize training performance"
   ]
  },
  {
   "cell_type": "code",
   "execution_count": null,
   "id": "f61851a641bb3c72",
   "metadata": {
    "ExecuteTime": {
     "end_time": "2025-01-06T15:56:02.783576Z",
     "start_time": "2025-01-06T15:56:02.715820Z"
    }
   },
   "outputs": [],
   "source": [
    "### val and train accuracy\n",
    "\n",
    "plt.plot(history.history['accuracy'], label='Train Accuracy')\n",
    "plt.plot(history.history['val_accuracy'], label='Validation Accuracy')\n",
    "plt.xlabel('Epochs')\n",
    "plt.ylabel('Accuracy')\n",
    "plt.legend()\n",
    "plt.show()\n"
   ]
  },
  {
   "cell_type": "markdown",
   "id": "8541974a630eb63b",
   "metadata": {},
   "source": [
    "# Testing Bert"
   ]
  },
  {
   "cell_type": "code",
   "execution_count": null,
   "id": "28e0d4fb30f1b933",
   "metadata": {
    "ExecuteTime": {
     "end_time": "2025-01-06T15:56:20.745774Z",
     "start_time": "2025-01-06T15:56:20.743479Z"
    }
   },
   "outputs": [],
   "source": [
    "from transformers import DistilBertTokenizer, TFDistilBertForSequenceClassification\n",
    "import tensorflow as tf"
   ]
  },
  {
   "cell_type": "code",
   "execution_count": null,
   "id": "d6729362a442f8a4",
   "metadata": {
    "ExecuteTime": {
     "end_time": "2025-01-06T15:56:22.292169Z",
     "start_time": "2025-01-06T15:56:22.179881Z"
    }
   },
   "outputs": [],
   "source": [
    "\n",
    "save_path = '/Users/cc/Desktop/Work/Uni/Berner FH/DataSets/mimicCSV/mimic-iv-3.1/hosp/shortform/BERTFTModel'\n",
    "\n",
    "# save model and tokns\n",
    "model.save_pretrained(save_path)\n",
    "tokenizer.save_pretrained(save_path)"
   ]
  },
  {
   "cell_type": "code",
   "execution_count": null,
   "id": "ed0ec7ffd68bd78c",
   "metadata": {
    "ExecuteTime": {
     "end_time": "2025-01-06T15:57:49.551375Z",
     "start_time": "2025-01-06T15:57:49.548821Z"
    }
   },
   "outputs": [],
   "source": [
    "# Test txt\n",
    "example_texts = [\n",
    "    \"The Patient had a traumatic head injury and suffered a cardiac arrest. Do not resusitate, paliative care\",\n",
    "    \"Patient is stable and has no history of serious illnesses.\"\n",
    "]\n"
   ]
  },
  {
   "cell_type": "code",
   "execution_count": null,
   "id": "4a555ebba08bd7a5",
   "metadata": {
    "ExecuteTime": {
     "end_time": "2025-01-06T15:57:50.831584Z",
     "start_time": "2025-01-06T15:57:50.828695Z"
    }
   },
   "outputs": [],
   "source": [
    "# Tokenize\n",
    "encodings = tokenizer(example_texts, truncation=True, padding=True, max_length=512, return_tensors='tf')\n"
   ]
  },
  {
   "cell_type": "code",
   "execution_count": null,
   "id": "d3d9d362020fbc97",
   "metadata": {
    "ExecuteTime": {
     "end_time": "2025-01-06T15:57:52.143384Z",
     "start_time": "2025-01-06T15:57:52.097552Z"
    }
   },
   "outputs": [],
   "source": [
    "# predict\n",
    "outputs = model(encodings['input_ids'], attention_mask=encodings['attention_mask'])\n"
   ]
  },
  {
   "cell_type": "code",
   "execution_count": null,
   "id": "3a9aba5de920a136",
   "metadata": {
    "ExecuteTime": {
     "end_time": "2025-01-06T15:57:53.558098Z",
     "start_time": "2025-01-06T15:57:53.555619Z"
    }
   },
   "outputs": [],
   "source": [
    "# get probabilities\n",
    "predictions = tf.nn.softmax(logits, axis=-1)\n"
   ]
  },
  {
   "cell_type": "code",
   "execution_count": null,
   "id": "c4694b3dcf5b03e5",
   "metadata": {
    "ExecuteTime": {
     "end_time": "2025-01-06T15:57:55.076262Z",
     "start_time": "2025-01-06T15:57:55.070940Z"
    }
   },
   "outputs": [],
   "source": [
    "# print pred.\n",
    "for i, text in enumerate(example_texts):\n",
    "    print(f\"Text: {text}\")\n",
    "    print(f\"Predicted Probabilities: {predictions[i].numpy()}\")\n",
    "    print(f\"Predicted Label: {tf.argmax(predictions[i]).numpy()}\")  # Class 0 or 1"
   ]
  }
 ],
 "metadata": {
  "kernelspec": {
   "display_name": "Python 3",
   "language": "python",
   "name": "python3"
  },
  "language_info": {
   "codemirror_mode": {
    "name": "ipython",
    "version": 2
   },
   "file_extension": ".py",
   "mimetype": "text/x-python",
   "name": "python",
   "nbconvert_exporter": "python",
   "pygments_lexer": "ipython2",
   "version": "2.7.6"
  }
 },
 "nbformat": 4,
 "nbformat_minor": 5
}
